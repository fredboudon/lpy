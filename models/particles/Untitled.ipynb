{
 "cells": [
  {
   "cell_type": "code",
   "execution_count": 1,
   "metadata": {},
   "outputs": [],
   "source": [
    "from pgljupyter import LsystemWidget"
   ]
  },
  {
   "cell_type": "code",
   "execution_count": 2,
   "metadata": {},
   "outputs": [],
   "source": [
    "lw = LsystemWidget('particles.lpy', unit='dm', animate=True)"
   ]
  },
  {
   "cell_type": "code",
   "execution_count": 3,
   "metadata": {},
   "outputs": [
    {
     "data": {
      "application/vnd.jupyter.widget-view+json": {
       "model_id": "f5783cc8bf904bc0bafe030adcd48f6a",
       "version_major": 2,
       "version_minor": 0
      },
      "text/plain": [
       "LsystemWidget(animate=True, derivationLength=500, scene={'data': b'x\\xdaSLrw\\xf5\\xf7e`Pp\\xe0\\xe5RPVVdf```be\\x0…"
      ]
     },
     "metadata": {},
     "output_type": "display_data"
    }
   ],
   "source": [
    "lw"
   ]
  },
  {
   "cell_type": "code",
   "execution_count": 7,
   "metadata": {
    "collapsed": true,
    "jupyter": {
     "outputs_hidden": true
    }
   },
   "outputs": [
    {
     "data": {
      "application/vnd.jupyter.widget-view+json": {
       "model_id": "45185f4c0f11419a95f8f1bd2846eb87",
       "version_major": 2,
       "version_minor": 0
      },
      "text/plain": [
       "ParameterEditor(children=(VBox(children=(HBox(children=(HBox(children=(Button(description='Apply changes', sty…"
      ]
     },
     "metadata": {},
     "output_type": "display_data"
    }
   ],
   "source": [
    "#lw.editor"
   ]
  },
  {
   "cell_type": "code",
   "execution_count": null,
   "metadata": {},
   "outputs": [],
   "source": []
  }
 ],
 "metadata": {
  "kernelspec": {
   "display_name": "Python 3",
   "language": "python",
   "name": "python3"
  },
  "language_info": {
   "codemirror_mode": {
    "name": "ipython",
    "version": 3
   },
   "file_extension": ".py",
   "mimetype": "text/x-python",
   "name": "python",
   "nbconvert_exporter": "python",
   "pygments_lexer": "ipython3",
   "version": "3.8.5"
  },
  "widgets": {
   "application/vnd.jupyter.widget-state+json": {
    "state": {
     "07618a2a79f74573996c112c60f1e269": {
      "model_module": "@jupyter-widgets/controls",
      "model_module_version": "1.5.0",
      "model_name": "ButtonModel",
      "state": {
       "description": "Save changes",
       "layout": "IPY_MODEL_d26429e3515c42f6bb27320b10016007",
       "style": "IPY_MODEL_47a9af22d2894bceb007879152a6319a"
      }
     },
     "276f3da78d804e3a949487f09bdc9e4c": {
      "model_module": "@jupyter-widgets/base",
      "model_module_version": "1.2.0",
      "model_name": "LayoutModel",
      "state": {}
     },
     "2fac89a572484833b2be0a1ccaf7d20e": {
      "model_module": "@jupyter-widgets/base",
      "model_module_version": "1.2.0",
      "model_name": "LayoutModel",
      "state": {}
     },
     "355de63cb3814365b3314801e39dd70c": {
      "model_module": "@jupyter-widgets/base",
      "model_module_version": "1.2.0",
      "model_name": "LayoutModel",
      "state": {}
     },
     "47a9af22d2894bceb007879152a6319a": {
      "model_module": "@jupyter-widgets/controls",
      "model_module_version": "1.5.0",
      "model_name": "ButtonStyleModel",
      "state": {}
     },
     "573ef9903d664617800f0f40e463766a": {
      "model_module": "@jupyter-widgets/controls",
      "model_module_version": "1.5.0",
      "model_name": "DescriptionStyleModel",
      "state": {
       "description_width": ""
      }
     },
     "705e9a7aee3e422fada31162fc09ddca": {
      "model_module": "@jupyter-widgets/base",
      "model_module_version": "1.2.0",
      "model_name": "LayoutModel",
      "state": {}
     },
     "73bfb0e549e24cfb9debe91df45a7722": {
      "model_module": "@jupyter-widgets/controls",
      "model_module_version": "1.5.0",
      "model_name": "ButtonStyleModel",
      "state": {}
     },
     "896c1306f40643b681b7e7d8d80a8168": {
      "model_module": "@jupyter-widgets/controls",
      "model_module_version": "1.5.0",
      "model_name": "ButtonModel",
      "state": {
       "description": "Apply changes",
       "layout": "IPY_MODEL_276f3da78d804e3a949487f09bdc9e4c",
       "style": "IPY_MODEL_73bfb0e549e24cfb9debe91df45a7722"
      }
     },
     "8b1727ecf54c4d7388d450822d926834": {
      "model_module": "@jupyter-widgets/controls",
      "model_module_version": "1.5.0",
      "model_name": "TabModel",
      "state": {
       "layout": "IPY_MODEL_355de63cb3814365b3314801e39dd70c"
      }
     },
     "8b8d28a832f3438191a57837ecddca4b": {
      "model_module": "@jupyter-widgets/base",
      "model_module_version": "1.2.0",
      "model_name": "LayoutModel",
      "state": {}
     },
     "9c7c5d0bd57c41b7b3f2333758a77c09": {
      "model_module": "@jupyter-widgets/controls",
      "model_module_version": "1.5.0",
      "model_name": "DescriptionStyleModel",
      "state": {
       "description_width": ""
      }
     },
     "cafa59901a3d4c38956660e01bd6ca0e": {
      "model_module": "@jupyter-widgets/controls",
      "model_module_version": "1.5.0",
      "model_name": "CheckboxModel",
      "state": {
       "description": "Auto save",
       "disabled": false,
       "layout": "IPY_MODEL_2fac89a572484833b2be0a1ccaf7d20e",
       "style": "IPY_MODEL_573ef9903d664617800f0f40e463766a",
       "value": false
      }
     },
     "d26429e3515c42f6bb27320b10016007": {
      "model_module": "@jupyter-widgets/base",
      "model_module_version": "1.2.0",
      "model_name": "LayoutModel",
      "state": {}
     },
     "f188823bf1ac45b0820f5d33402c84c4": {
      "model_module": "@jupyter-widgets/controls",
      "model_module_version": "1.5.0",
      "model_name": "CheckboxModel",
      "state": {
       "description": "Auto apply",
       "disabled": false,
       "layout": "IPY_MODEL_705e9a7aee3e422fada31162fc09ddca",
       "style": "IPY_MODEL_9c7c5d0bd57c41b7b3f2333758a77c09",
       "value": false
      }
     },
     "f5783cc8bf904bc0bafe030adcd48f6a": {
      "buffers": [
       {
        "data": "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",
        "encoding": "base64",
        "path": [
         "scene",
         "data"
        ]
       }
      ],
      "model_module": "pgljupyter",
      "model_module_version": "^0.1.9",
      "model_name": "LsystemWidgetModel",
      "state": {
       "_model_module_version": "^0.1.9",
       "_view_module_version": "^0.1.9",
       "axes_helper": false,
       "derivationLength": 500,
       "layout": "IPY_MODEL_8b8d28a832f3438191a57837ecddca4b",
       "light_helper": false,
       "plane": true,
       "scene": {
        "derivationStep": 499,
        "id": 499,
        "scene": "<openalea.plantgl.scenegraph._pglsg.Scene object at 0x7f9752945c60>"
       },
       "size_display": [
        400,
        400
       ],
       "size_world": [
        10,
        10,
        10
       ],
       "unit": 1
      }
     }
    },
    "version_major": 2,
    "version_minor": 0
   }
  }
 },
 "nbformat": 4,
 "nbformat_minor": 4
}
