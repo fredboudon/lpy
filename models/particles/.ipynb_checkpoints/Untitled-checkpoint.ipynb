{
 "cells": [
  {
   "cell_type": "code",
   "execution_count": 2,
   "metadata": {},
   "outputs": [],
   "source": [
    "from pgljupyter import LsystemWidget"
   ]
  },
  {
   "cell_type": "code",
   "execution_count": 9,
   "metadata": {},
   "outputs": [],
   "source": [
    "lw = LsystemWidget('particles.lpy', unit='dm', animate=True)"
   ]
  },
  {
   "cell_type": "code",
   "execution_count": 10,
   "metadata": {
    "collapsed": true,
    "jupyter": {
     "outputs_hidden": true
    }
   },
   "outputs": [
    {
     "data": {
      "application/vnd.jupyter.widget-view+json": {
       "model_id": "3064b953a0de4a9089cbf031f37dc97c",
       "version_major": 2,
       "version_minor": 0
      },
      "text/plain": [
       "LsystemWidget(animate=True, derivationLength=500, scene={'data': b'x\\xdaSLrw\\xf5\\xf7e`Pp\\xe0\\xe5RPVVdf```be\\x0…"
      ]
     },
     "metadata": {},
     "output_type": "display_data"
    }
   ],
   "source": [
    "lw"
   ]
  },
  {
   "cell_type": "code",
   "execution_count": 7,
   "metadata": {
    "collapsed": true,
    "jupyter": {
     "outputs_hidden": true
    }
   },
   "outputs": [
    {
     "data": {
      "application/vnd.jupyter.widget-view+json": {
       "model_id": "45185f4c0f11419a95f8f1bd2846eb87",
       "version_major": 2,
       "version_minor": 0
      },
      "text/plain": [
       "ParameterEditor(children=(VBox(children=(HBox(children=(HBox(children=(Button(description='Apply changes', sty…"
      ]
     },
     "metadata": {},
     "output_type": "display_data"
    }
   ],
   "source": [
    "lw.editor"
   ]
  },
  {
   "cell_type": "code",
   "execution_count": null,
   "metadata": {},
   "outputs": [],
   "source": []
  }
 ],
 "metadata": {
  "kernelspec": {
   "display_name": "Python 3",
   "language": "python",
   "name": "python3"
  },
  "language_info": {
   "codemirror_mode": {
    "name": "ipython",
    "version": 3
   },
   "file_extension": ".py",
   "mimetype": "text/x-python",
   "name": "python",
   "nbconvert_exporter": "python",
   "pygments_lexer": "ipython3",
   "version": "3.8.5"
  },
  "widgets": {
   "application/vnd.jupyter.widget-state+json": {
    "state": {
     "00dc35dbf89a4234ab600bc2479fb92e": {
      "model_module": "@jupyter-widgets/base",
      "model_module_version": "1.2.0",
      "model_name": "LayoutModel",
      "state": {}
     },
     "00ed6d8e89fa4ec5a352271e4a398a58": {
      "model_module": "@jupyter-widgets/controls",
      "model_module_version": "1.5.0",
      "model_name": "DropdownModel",
      "state": {
       "index": null,
       "layout": "IPY_MODEL_e1a038d137574bd0b83d831f20b8e028",
       "style": "IPY_MODEL_d4e79fe8320d4d9eba21a105f04f57a0"
      }
     },
     "024a95a5802046a6a1ea28e12b433d75": {
      "model_module": "@jupyter-widgets/controls",
      "model_module_version": "1.5.0",
      "model_name": "ButtonStyleModel",
      "state": {}
     },
     "03ce97f6d2e348fea19284daaad8e9e4": {
      "model_module": "@jupyter-widgets/controls",
      "model_module_version": "1.5.0",
      "model_name": "VBoxModel",
      "state": {
       "children": [
        "IPY_MODEL_acd14894c29a41a78d09b1c453ae7343",
        "IPY_MODEL_cec21246aade44d5bf891fecd052a2b2"
       ],
       "layout": "IPY_MODEL_c14ab4a7bcab4987be17a0ee1b120c8b"
      }
     },
     "03f017856be34edba58e2bc5578b1d92": {
      "model_module": "@jupyter-widgets/base",
      "model_module_version": "1.2.0",
      "model_name": "LayoutModel",
      "state": {}
     },
     "0456de77f15642dcb99b6d5ce44d7a4b": {
      "model_module": "@jupyter-widgets/base",
      "model_module_version": "1.2.0",
      "model_name": "LayoutModel",
      "state": {}
     },
     "056abdb368e84630a2298d388c56d963": {
      "model_module": "@jupyter-widgets/controls",
      "model_module_version": "1.5.0",
      "model_name": "HBoxModel",
      "state": {
       "children": [
        "IPY_MODEL_3340df48f8b54944a8ef3a389d12f9ec",
        "IPY_MODEL_144859ec770b4ac3a277487ec62a0c50"
       ],
       "layout": "IPY_MODEL_e2e90fea248242c49ced163c267d06f6"
      }
     },
     "05fe6881a16643a2bdd9490894fed03e": {
      "model_module": "@jupyter-widgets/base",
      "model_module_version": "1.2.0",
      "model_name": "LayoutModel",
      "state": {}
     },
     "0889f478495143da802795d272217106": {
      "model_module": "@jupyter-widgets/controls",
      "model_module_version": "1.5.0",
      "model_name": "ButtonStyleModel",
      "state": {}
     },
     "08f5cfce183040cda8b598f68cfef36f": {
      "model_module": "@jupyter-widgets/base",
      "model_module_version": "1.2.0",
      "model_name": "LayoutModel",
      "state": {}
     },
     "092ec12cca974631bf687b02ef203615": {
      "model_module": "@jupyter-widgets/controls",
      "model_module_version": "1.5.0",
      "model_name": "DropdownModel",
      "state": {
       "index": null,
       "layout": "IPY_MODEL_4c1b50302bdb4b768bb80ed383afc8b4",
       "style": "IPY_MODEL_5ab2697623b8445680eca4c7b14d1d2c"
      }
     },
     "0990e42ee26a43dab9c722487d54faca": {
      "model_module": "@jupyter-widgets/base",
      "model_module_version": "1.2.0",
      "model_name": "LayoutModel",
      "state": {}
     },
     "0be086c3a72c44f88d67a0d02c526ee7": {
      "model_module": "@jupyter-widgets/base",
      "model_module_version": "1.2.0",
      "model_name": "LayoutModel",
      "state": {}
     },
     "0c0f203e35354a5b936f37118ef53c3b": {
      "model_module": "@jupyter-widgets/controls",
      "model_module_version": "1.5.0",
      "model_name": "DropdownModel",
      "state": {
       "index": null,
       "layout": "IPY_MODEL_08f5cfce183040cda8b598f68cfef36f",
       "style": "IPY_MODEL_cee6590cad574350b1f2d7b169f939c6"
      }
     },
     "0e9421ee40644c3c861f3306eda5c05f": {
      "model_module": "@jupyter-widgets/controls",
      "model_module_version": "1.5.0",
      "model_name": "HBoxModel",
      "state": {
       "layout": "IPY_MODEL_a3359b38bcad419a9fe74226259b3d3c"
      }
     },
     "0ee82811196e4aaeb191e85fbe6f4086": {
      "model_module": "@jupyter-widgets/base",
      "model_module_version": "1.2.0",
      "model_name": "LayoutModel",
      "state": {}
     },
     "0f18845bc99545cf83ae9f4b9b034493": {
      "model_module": "@jupyter-widgets/controls",
      "model_module_version": "1.5.0",
      "model_name": "ButtonStyleModel",
      "state": {}
     },
     "0f18f17f650e4ca79b23a1783c3c5614": {
      "model_module": "@jupyter-widgets/base",
      "model_module_version": "1.2.0",
      "model_name": "LayoutModel",
      "state": {}
     },
     "115d2dd26b474e6c86d6b554d1f6ad5e": {
      "model_module": "@jupyter-widgets/base",
      "model_module_version": "1.2.0",
      "model_name": "LayoutModel",
      "state": {}
     },
     "122dae7a54a74752ac431bf5cd96cd9b": {
      "model_module": "@jupyter-widgets/controls",
      "model_module_version": "1.5.0",
      "model_name": "HBoxModel",
      "state": {
       "children": [
        "IPY_MODEL_afae428f146b4a1686e9c9b861177191",
        "IPY_MODEL_6896fb8e8f8f46008554313a9807f635"
       ],
       "layout": "IPY_MODEL_a4c1695a6b3d44d6b35fd2a771cf916c"
      }
     },
     "138dbe295f524808914ea2cd89fe0771": {
      "model_module": "@jupyter-widgets/base",
      "model_module_version": "1.2.0",
      "model_name": "LayoutModel",
      "state": {}
     },
     "13a6c777872347b9b1f5444b2d1a6e0e": {
      "model_module": "@jupyter-widgets/controls",
      "model_module_version": "1.5.0",
      "model_name": "DropdownModel",
      "state": {
       "_options_labels": [
        "Integer",
        "Float",
        "Bool"
       ],
       "index": 0,
       "layout": "IPY_MODEL_44c688e13ca04fe0ac7f903614bd5972",
       "style": "IPY_MODEL_bda10d17d1cc495391afb86dbdf018fe"
      }
     },
     "144859ec770b4ac3a277487ec62a0c50": {
      "model_module": "@jupyter-widgets/controls",
      "model_module_version": "1.5.0",
      "model_name": "HBoxModel",
      "state": {
       "children": [
        "IPY_MODEL_95c37c5693554a1089e10a12f3a10b85",
        "IPY_MODEL_cf413d52254b4f62b9fadd56a07f87c2"
       ],
       "layout": "IPY_MODEL_a47af3d4576a42a381336e9e2c1bd27f"
      }
     },
     "1490020d09404d8aa0ca03c6a99f2b3e": {
      "model_module": "@jupyter-widgets/controls",
      "model_module_version": "1.5.0",
      "model_name": "HBoxModel",
      "state": {
       "layout": "IPY_MODEL_a3359b38bcad419a9fe74226259b3d3c"
      }
     },
     "1499bf0ac99d4ed9baf1a5bbe91e1bc5": {
      "model_module": "@jupyter-widgets/controls",
      "model_module_version": "1.5.0",
      "model_name": "HBoxModel",
      "state": {
       "layout": "IPY_MODEL_8af1cb40710e416c8eaa3d15f959c047"
      }
     },
     "14dc8aa536cb41f3aa3fe51bbea6aaa5": {
      "model_module": "@jupyter-widgets/controls",
      "model_module_version": "1.5.0",
      "model_name": "DescriptionStyleModel",
      "state": {
       "description_width": ""
      }
     },
     "156688329a884bc4943c22b6b531e23b": {
      "model_module": "@jupyter-widgets/controls",
      "model_module_version": "1.5.0",
      "model_name": "ButtonModel",
      "state": {
       "description": "Add",
       "layout": "IPY_MODEL_f8949ee28df54d519d96d0d4628daa9e",
       "style": "IPY_MODEL_9f3499d3b86f48cdaf1c4ddd120e1fd4"
      }
     },
     "15ed9dbdfeed4ee09fe03df4dbb0e606": {
      "model_module": "@jupyter-widgets/base",
      "model_module_version": "1.2.0",
      "model_name": "LayoutModel",
      "state": {}
     },
     "16608b212388429a85289830ddd5a01e": {
      "model_module": "@jupyter-widgets/base",
      "model_module_version": "1.2.0",
      "model_name": "LayoutModel",
      "state": {}
     },
     "166e1e22f26c4f3b899c74261810529d": {
      "model_module": "@jupyter-widgets/controls",
      "model_module_version": "1.5.0",
      "model_name": "DescriptionStyleModel",
      "state": {
       "description_width": ""
      }
     },
     "16a8ed773b004c8380e1ab1c303fe472": {
      "model_module": "@jupyter-widgets/controls",
      "model_module_version": "1.5.0",
      "model_name": "ButtonModel",
      "state": {
       "description": "Add",
       "layout": "IPY_MODEL_138dbe295f524808914ea2cd89fe0771",
       "style": "IPY_MODEL_b2c0aa84e61b4ae19eaa87bd024e1b4c"
      }
     },
     "18e5d11e9e974226a4fcc82c11a0aaee": {
      "model_module": "@jupyter-widgets/base",
      "model_module_version": "1.2.0",
      "model_name": "LayoutModel",
      "state": {}
     },
     "1a4e0d5dd8e84d9f94eda37c317deaeb": {
      "model_module": "@jupyter-widgets/controls",
      "model_module_version": "1.5.0",
      "model_name": "DropdownModel",
      "state": {
       "index": null,
       "layout": "IPY_MODEL_248ac4c378d843e3949d2f7a832fa0aa",
       "style": "IPY_MODEL_e679800a6aeb488ab8530bb5c71bc277"
      }
     },
     "1b33e3ade8944e3189ba571e90aa0877": {
      "model_module": "@jupyter-widgets/base",
      "model_module_version": "1.2.0",
      "model_name": "LayoutModel",
      "state": {}
     },
     "1b3d0981654e47a097b60b82d2e320c3": {
      "model_module": "@jupyter-widgets/controls",
      "model_module_version": "1.5.0",
      "model_name": "HBoxModel",
      "state": {
       "children": [
        "IPY_MODEL_aaf5e2c8a2564ff49e7b68c039b181a1",
        "IPY_MODEL_25b92dd7a18346608a8b00875d64d1d0"
       ],
       "layout": "IPY_MODEL_57b500aa3c53489eae8055600ea28826"
      }
     },
     "1b93052817af4ed8ba2cd8300828c9ab": {
      "model_module": "@jupyter-widgets/controls",
      "model_module_version": "1.5.0",
      "model_name": "DropdownModel",
      "state": {
       "_options_labels": [
        "NurbsCurve2D"
       ],
       "index": 0,
       "layout": "IPY_MODEL_b5818c0c2dc7433280494a34ec5b177e",
       "style": "IPY_MODEL_14dc8aa536cb41f3aa3fe51bbea6aaa5"
      }
     },
     "1bcafa0f82904b50af58315d2d7064bd": {
      "model_module": "@jupyter-widgets/controls",
      "model_module_version": "1.5.0",
      "model_name": "ButtonStyleModel",
      "state": {}
     },
     "1c02b9a313a048099b9179dab3f6b19b": {
      "model_module": "@jupyter-widgets/base",
      "model_module_version": "1.2.0",
      "model_name": "LayoutModel",
      "state": {}
     },
     "1c0e6084b3594d0b89eba7ee81bc5371": {
      "model_module": "@jupyter-widgets/controls",
      "model_module_version": "1.5.0",
      "model_name": "DescriptionStyleModel",
      "state": {
       "description_width": ""
      }
     },
     "1c4dd0b8bbb94dc5aece9ac7104719ce": {
      "model_module": "@jupyter-widgets/controls",
      "model_module_version": "1.5.0",
      "model_name": "DropdownModel",
      "state": {
       "_options_labels": [
        "NurbsCurve2D",
        "BezierCurve2D",
        "Polyline2D"
       ],
       "index": 0,
       "layout": "IPY_MODEL_84f4338d7dbc40bdb6d5ad59a3eedda8",
       "style": "IPY_MODEL_dd8c9f5d378f4d39a5a8f88baa4b9037"
      }
     },
     "1c9f4b595fbb471982fe44b4cd0e82f4": {
      "model_module": "@jupyter-widgets/controls",
      "model_module_version": "1.5.0",
      "model_name": "ButtonModel",
      "state": {
       "description": "Delete",
       "layout": "IPY_MODEL_d703fce4fd7c41c6ac2ca5119b46537c",
       "style": "IPY_MODEL_f4988ea8824b4c6a97cf50188c4facd5"
      }
     },
     "1ca03272e6e846a994962248811a5a63": {
      "model_module": "@jupyter-widgets/base",
      "model_module_version": "1.2.0",
      "model_name": "LayoutModel",
      "state": {}
     },
     "1d30e1656cf745238dafe414b5c0cf7d": {
      "model_module": "@jupyter-widgets/controls",
      "model_module_version": "1.5.0",
      "model_name": "HBoxModel",
      "state": {
       "children": [
        "IPY_MODEL_38531a8b9e3046c28be42c1bb78a4f52",
        "IPY_MODEL_80aba0b0840747b1b428194dd87219d6"
       ],
       "layout": "IPY_MODEL_6466be8807fd4d4096286dbc66b782c3"
      }
     },
     "1db7b6e9930646c7af34af5e9832c6cc": {
      "model_module": "@jupyter-widgets/controls",
      "model_module_version": "1.5.0",
      "model_name": "HBoxModel",
      "state": {
       "children": [
        "IPY_MODEL_1c9f4b595fbb471982fe44b4cd0e82f4",
        "IPY_MODEL_a82d97510b784c5fb05e815040466be9"
       ],
       "layout": "IPY_MODEL_56622e17b3244bcf92413ef1183e7795"
      }
     },
     "1e412daa4b7d439c8647be27033c3b21": {
      "model_module": "@jupyter-widgets/controls",
      "model_module_version": "1.5.0",
      "model_name": "HBoxModel",
      "state": {
       "layout": "IPY_MODEL_8af1cb40710e416c8eaa3d15f959c047"
      }
     },
     "2303525874ed41faa7ab84ed4c7d1d9d": {
      "model_module": "@jupyter-widgets/controls",
      "model_module_version": "1.5.0",
      "model_name": "ButtonStyleModel",
      "state": {}
     },
     "230c8af09bbe4071a64268c8b32687b2": {
      "model_module": "@jupyter-widgets/controls",
      "model_module_version": "1.5.0",
      "model_name": "HBoxModel",
      "state": {
       "children": [
        "IPY_MODEL_c636f145e68c45448278e993e5554f74",
        "IPY_MODEL_3d43db9169c342aab0769949937b0340"
       ],
       "layout": "IPY_MODEL_e2e90fea248242c49ced163c267d06f6"
      }
     },
     "241fc285f672407a92482813c682ac72": {
      "model_module": "@jupyter-widgets/base",
      "model_module_version": "1.2.0",
      "model_name": "LayoutModel",
      "state": {}
     },
     "248ac4c378d843e3949d2f7a832fa0aa": {
      "model_module": "@jupyter-widgets/base",
      "model_module_version": "1.2.0",
      "model_name": "LayoutModel",
      "state": {}
     },
     "248d78e888d74c5db12706e646efcfc0": {
      "model_module": "@jupyter-widgets/controls",
      "model_module_version": "1.5.0",
      "model_name": "HBoxModel",
      "state": {
       "children": [
        "IPY_MODEL_32df8b02b3fe4fb59d56bed70a471d4a",
        "IPY_MODEL_1b93052817af4ed8ba2cd8300828c9ab"
       ],
       "layout": "IPY_MODEL_0456de77f15642dcb99b6d5ce44d7a4b"
      }
     },
     "24b2349fa5e949498a58a84c286c48b9": {
      "model_module": "@jupyter-widgets/base",
      "model_module_version": "1.2.0",
      "model_name": "LayoutModel",
      "state": {}
     },
     "2597573eb0984acea78ee9e886f93cb6": {
      "model_module": "@jupyter-widgets/controls",
      "model_module_version": "1.5.0",
      "model_name": "VBoxModel",
      "state": {
       "children": [
        "IPY_MODEL_ce825073b2004c379a91e1938ee84453",
        "IPY_MODEL_84ed4d6ecbbc43d3a025c2c1483a7b44"
       ],
       "layout": "IPY_MODEL_42f80ca6fdff4fc48bcbca634cfa5c2c"
      }
     },
     "25b92dd7a18346608a8b00875d64d1d0": {
      "model_module": "@jupyter-widgets/controls",
      "model_module_version": "1.5.0",
      "model_name": "HBoxModel",
      "state": {
       "children": [
        "IPY_MODEL_cd55891274d64fe19f7eb68ff63c3eea",
        "IPY_MODEL_a24232184c864ae0aaaffa342e31ab7f"
       ],
       "layout": "IPY_MODEL_47f39004b6f14f13b8b0c1c3510e1019"
      }
     },
     "27dd7871ff944dd6a3da5c2a38575f8a": {
      "model_module": "@jupyter-widgets/controls",
      "model_module_version": "1.5.0",
      "model_name": "ButtonModel",
      "state": {
       "description": "Delete",
       "layout": "IPY_MODEL_80f5356e68e74d87a23f405dbd935d0c",
       "style": "IPY_MODEL_fa25d41827ae43da8b2c0578b2f0c1a2"
      }
     },
     "2832e96ffe4040a5b4f10128e546686b": {
      "model_module": "@jupyter-widgets/controls",
      "model_module_version": "1.5.0",
      "model_name": "HBoxModel",
      "state": {
       "children": [
        "IPY_MODEL_ef64531d5ade4ced9add303ad6a0b247",
        "IPY_MODEL_ffa93267c7ff479a9dfc774cfc3199a1"
       ],
       "layout": "IPY_MODEL_9160794689e94cdf8defd26858da795a"
      }
     },
     "28cb39190da14f9f91b97cd388c272fd": {
      "model_module": "@jupyter-widgets/controls",
      "model_module_version": "1.5.0",
      "model_name": "AccordionModel",
      "state": {
       "_titles": {
        "0": "scalars",
        "1": "materials",
        "2": "functions",
        "3": "curves"
       },
       "children": [
        "IPY_MODEL_312e4cc8f6e34c8b8c10ef5fef512843",
        "IPY_MODEL_dc34a6ef0f95412aaf24db7bc0870778",
        "IPY_MODEL_89eef74a98024f829c8d47f06cb4b7d5",
        "IPY_MODEL_538ab29e668b4f6d935cb0b607b966de"
       ],
       "layout": "IPY_MODEL_03f017856be34edba58e2bc5578b1d92"
      }
     },
     "29b95d4dce3f44a9bf6d8487620b4938": {
      "model_module": "@jupyter-widgets/controls",
      "model_module_version": "1.5.0",
      "model_name": "HBoxModel",
      "state": {
       "children": [
        "IPY_MODEL_16a8ed773b004c8380e1ab1c303fe472",
        "IPY_MODEL_d11cae22e30a4431b79b60dc4dfe95ee"
       ],
       "layout": "IPY_MODEL_f67d0d8b99374f06a45c9dc5ab437a89"
      }
     },
     "2a2bd038dac748d9bd5580892903a659": {
      "model_module": "pgljupyter",
      "model_module_version": "^0.1.9",
      "model_name": "ParameterEditorModel",
      "state": {
       "_model_module_version": "^0.1.9",
       "_view_module_version": "^0.1.9",
       "children": [
        "IPY_MODEL_5b32d1b332644efeb9f4f810b49083cb"
       ],
       "layout": "IPY_MODEL_5e251e3ed57745a6b7e1753c8e69429b"
      }
     },
     "2e47699c407f486297ce231b63da5f25": {
      "model_module": "@jupyter-widgets/controls",
      "model_module_version": "1.5.0",
      "model_name": "DescriptionStyleModel",
      "state": {
       "description_width": ""
      }
     },
     "3064b953a0de4a9089cbf031f37dc97c": {
      "buffers": [
       {
        "data": "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",
        "encoding": "base64",
        "path": [
         "scene",
         "data"
        ]
       }
      ],
      "model_module": "pgljupyter",
      "model_module_version": "^0.1.9",
      "model_name": "LsystemWidgetModel",
      "state": {
       "_model_module_version": "^0.1.9",
       "_view_module_version": "^0.1.9",
       "axes_helper": false,
       "derivationLength": 500,
       "layout": "IPY_MODEL_a761c8b2b9b7401287432eb99d99bc39",
       "light_helper": false,
       "plane": true,
       "scene": {
        "derivationStep": 499,
        "id": 499,
        "scene": "<openalea.plantgl.scenegraph._pglsg.Scene object at 0x7f8024209120>"
       },
       "size_display": [
        400,
        400
       ],
       "size_world": [
        10,
        10,
        10
       ],
       "unit": 1
      }
     },
     "307cc3f0bfd34891a283eb56dfca48ef": {
      "model_module": "@jupyter-widgets/base",
      "model_module_version": "1.2.0",
      "model_name": "LayoutModel",
      "state": {}
     },
     "312e4cc8f6e34c8b8c10ef5fef512843": {
      "model_module": "@jupyter-widgets/controls",
      "model_module_version": "1.5.0",
      "model_name": "VBoxModel",
      "state": {
       "children": [
        "IPY_MODEL_1b3d0981654e47a097b60b82d2e320c3",
        "IPY_MODEL_0e9421ee40644c3c861f3306eda5c05f"
       ],
       "layout": "IPY_MODEL_f0fd72d6cedd48ab8c5b482893732455"
      }
     },
     "32df8b02b3fe4fb59d56bed70a471d4a": {
      "model_module": "@jupyter-widgets/controls",
      "model_module_version": "1.5.0",
      "model_name": "ButtonModel",
      "state": {
       "description": "Add",
       "layout": "IPY_MODEL_8afcf1d5aab848b2855a4042f0562a66",
       "style": "IPY_MODEL_daa8b85fc69e452680e42a32204bcce4"
      }
     },
     "3340df48f8b54944a8ef3a389d12f9ec": {
      "model_module": "@jupyter-widgets/controls",
      "model_module_version": "1.5.0",
      "model_name": "HBoxModel",
      "state": {
       "children": [
        "IPY_MODEL_85fed907e25b494f9bb0efd293daa1ee",
        "IPY_MODEL_1c4dd0b8bbb94dc5aece9ac7104719ce"
       ],
       "layout": "IPY_MODEL_c6cd4b834b0e4b948a66d828e0286d3a"
      }
     },
     "3343077adcf541b1a770aab0704add33": {
      "model_module": "@jupyter-widgets/controls",
      "model_module_version": "1.5.0",
      "model_name": "DescriptionStyleModel",
      "state": {
       "description_width": ""
      }
     },
     "3433a16c1b6e4cbf9d78963a907f799b": {
      "model_module": "@jupyter-widgets/controls",
      "model_module_version": "1.5.0",
      "model_name": "HBoxModel",
      "state": {
       "children": [
        "IPY_MODEL_8f11f5f8afef463fa9f368ef9a3878b9",
        "IPY_MODEL_94958c25aedc485794ec7638491c919a"
       ],
       "layout": "IPY_MODEL_dc283ef0b01f41d980c04da8013b54c9"
      }
     },
     "34bac1ba07eb4bb4a5caad54bc302e21": {
      "model_module": "@jupyter-widgets/controls",
      "model_module_version": "1.5.0",
      "model_name": "ButtonStyleModel",
      "state": {}
     },
     "3542fd5819f748f0859bd6893fd45e57": {
      "model_module": "@jupyter-widgets/base",
      "model_module_version": "1.2.0",
      "model_name": "LayoutModel",
      "state": {}
     },
     "3851e907967c4c138951746e6cea46f5": {
      "model_module": "@jupyter-widgets/base",
      "model_module_version": "1.2.0",
      "model_name": "LayoutModel",
      "state": {}
     },
     "38531a8b9e3046c28be42c1bb78a4f52": {
      "model_module": "@jupyter-widgets/controls",
      "model_module_version": "1.5.0",
      "model_name": "ButtonModel",
      "state": {
       "description": "Save changes",
       "layout": "IPY_MODEL_15ed9dbdfeed4ee09fe03df4dbb0e606",
       "style": "IPY_MODEL_1bcafa0f82904b50af58315d2d7064bd"
      }
     },
     "3a44ac961cf2460d9025d67298bf01fa": {
      "model_module": "@jupyter-widgets/controls",
      "model_module_version": "1.5.0",
      "model_name": "ButtonStyleModel",
      "state": {}
     },
     "3a5af394fb4e440ebcdec98d96442ceb": {
      "model_module": "@jupyter-widgets/controls",
      "model_module_version": "1.5.0",
      "model_name": "DescriptionStyleModel",
      "state": {
       "description_width": ""
      }
     },
     "3b7f038116a04c71afe8a1e40740a027": {
      "model_module": "@jupyter-widgets/controls",
      "model_module_version": "1.5.0",
      "model_name": "HBoxModel",
      "state": {
       "layout": "IPY_MODEL_a3359b38bcad419a9fe74226259b3d3c"
      }
     },
     "3ba6c0ef02b446fb94b7a21ba5e5ff3c": {
      "model_module": "@jupyter-widgets/base",
      "model_module_version": "1.2.0",
      "model_name": "LayoutModel",
      "state": {}
     },
     "3d43db9169c342aab0769949937b0340": {
      "model_module": "@jupyter-widgets/controls",
      "model_module_version": "1.5.0",
      "model_name": "HBoxModel",
      "state": {
       "children": [
        "IPY_MODEL_d877c52f88354aae90b2347fa66cc48e",
        "IPY_MODEL_1a4e0d5dd8e84d9f94eda37c317deaeb"
       ],
       "layout": "IPY_MODEL_55429c70ae50499faab74b7bd1c96683"
      }
     },
     "3e2060b489e64dac95048f909020dc4d": {
      "model_module": "@jupyter-widgets/controls",
      "model_module_version": "1.5.0",
      "model_name": "ButtonStyleModel",
      "state": {}
     },
     "3eee6efd267b4448899f9a0d891fe492": {
      "model_module": "@jupyter-widgets/controls",
      "model_module_version": "1.5.0",
      "model_name": "TabModel",
      "state": {
       "_titles": {
        "0": "particles.json"
       },
       "children": [
        "IPY_MODEL_8596eb9195514d2cbe9d58100bd7748a"
       ],
       "layout": "IPY_MODEL_521c409141c54df09bdbab90de4ae4f6"
      }
     },
     "3f03ed3a7f9442d682aba3af271bf551": {
      "model_module": "@jupyter-widgets/controls",
      "model_module_version": "1.5.0",
      "model_name": "CheckboxModel",
      "state": {
       "description": "Auto apply",
       "disabled": false,
       "layout": "IPY_MODEL_d4e0445cb4ad463eac503d04aece84e1",
       "style": "IPY_MODEL_4d4f8fa6caf84da48d2d420361b7b464",
       "value": false
      }
     },
     "40e48636bbdb4423865d3865bc994afd": {
      "model_module": "@jupyter-widgets/controls",
      "model_module_version": "1.5.0",
      "model_name": "ButtonStyleModel",
      "state": {}
     },
     "412e02e2f0bf4333a4fa7e45ef6ea803": {
      "model_module": "@jupyter-widgets/controls",
      "model_module_version": "1.5.0",
      "model_name": "HBoxModel",
      "state": {
       "children": [
        "IPY_MODEL_b34e2ad004294f43895350588206fd07",
        "IPY_MODEL_092ec12cca974631bf687b02ef203615"
       ],
       "layout": "IPY_MODEL_9d6f61822a7c478a9f202ccba11f94ab"
      }
     },
     "42aaf4bb6a484b4fb398df56171fadda": {
      "model_module": "@jupyter-widgets/base",
      "model_module_version": "1.2.0",
      "model_name": "LayoutModel",
      "state": {
       "flex_flow": "row wrap"
      }
     },
     "42cf68146073417e8202258881675d46": {
      "model_module": "@jupyter-widgets/controls",
      "model_module_version": "1.5.0",
      "model_name": "DescriptionStyleModel",
      "state": {
       "description_width": ""
      }
     },
     "42f80ca6fdff4fc48bcbca634cfa5c2c": {
      "model_module": "@jupyter-widgets/base",
      "model_module_version": "1.2.0",
      "model_name": "LayoutModel",
      "state": {}
     },
     "431fbacf24cf4f509d2377a8f698c279": {
      "model_module": "@jupyter-widgets/controls",
      "model_module_version": "1.5.0",
      "model_name": "DescriptionStyleModel",
      "state": {
       "description_width": ""
      }
     },
     "44a9ba5896634ef8be9912d39464e6d4": {
      "model_module": "@jupyter-widgets/controls",
      "model_module_version": "1.5.0",
      "model_name": "HBoxModel",
      "state": {
       "layout": "IPY_MODEL_d8ae5f59cb3d44d9a3be61a4b38f2459"
      }
     },
     "44b2d7cfebb2414383705692c5eeb729": {
      "model_module": "@jupyter-widgets/base",
      "model_module_version": "1.2.0",
      "model_name": "LayoutModel",
      "state": {}
     },
     "44c688e13ca04fe0ac7f903614bd5972": {
      "model_module": "@jupyter-widgets/base",
      "model_module_version": "1.2.0",
      "model_name": "LayoutModel",
      "state": {}
     },
     "45185f4c0f11419a95f8f1bd2846eb87": {
      "model_module": "pgljupyter",
      "model_module_version": "^0.1.9",
      "model_name": "ParameterEditorModel",
      "state": {
       "_model_module_version": "^0.1.9",
       "_view_module_version": "^0.1.9",
       "children": [
        "IPY_MODEL_90d1501592344503857bcfb72dd9bfd1"
       ],
       "layout": "IPY_MODEL_307cc3f0bfd34891a283eb56dfca48ef"
      }
     },
     "4561134b6a4549f9980a9481d30fd116": {
      "model_module": "@jupyter-widgets/base",
      "model_module_version": "1.2.0",
      "model_name": "LayoutModel",
      "state": {}
     },
     "465f27ab2af5490e98753443255fb70d": {
      "model_module": "@jupyter-widgets/base",
      "model_module_version": "1.2.0",
      "model_name": "LayoutModel",
      "state": {
       "flex_flow": "row wrap"
      }
     },
     "477a6f6582034fd6ab1530e0601073bc": {
      "model_module": "@jupyter-widgets/base",
      "model_module_version": "1.2.0",
      "model_name": "LayoutModel",
      "state": {}
     },
     "47f39004b6f14f13b8b0c1c3510e1019": {
      "model_module": "@jupyter-widgets/base",
      "model_module_version": "1.2.0",
      "model_name": "LayoutModel",
      "state": {}
     },
     "49fe9287411c4ac6b3518fa219f8dc1c": {
      "model_module": "@jupyter-widgets/base",
      "model_module_version": "1.2.0",
      "model_name": "LayoutModel",
      "state": {}
     },
     "4c1b50302bdb4b768bb80ed383afc8b4": {
      "model_module": "@jupyter-widgets/base",
      "model_module_version": "1.2.0",
      "model_name": "LayoutModel",
      "state": {}
     },
     "4c80547736c243ceb0913d4761c7c0b0": {
      "model_module": "@jupyter-widgets/base",
      "model_module_version": "1.2.0",
      "model_name": "LayoutModel",
      "state": {}
     },
     "4d4f8fa6caf84da48d2d420361b7b464": {
      "model_module": "@jupyter-widgets/controls",
      "model_module_version": "1.5.0",
      "model_name": "DescriptionStyleModel",
      "state": {
       "description_width": ""
      }
     },
     "4e84c0d50bb840518fa79c1de82a48ce": {
      "model_module": "@jupyter-widgets/base",
      "model_module_version": "1.2.0",
      "model_name": "LayoutModel",
      "state": {}
     },
     "4e8b5ae8f7014cf09872564044016501": {
      "model_module": "@jupyter-widgets/base",
      "model_module_version": "1.2.0",
      "model_name": "LayoutModel",
      "state": {}
     },
     "50d18ec966084b718061f81230741808": {
      "model_module": "@jupyter-widgets/controls",
      "model_module_version": "1.5.0",
      "model_name": "DropdownModel",
      "state": {
       "_options_labels": [
        "Color"
       ],
       "index": 0,
       "layout": "IPY_MODEL_cf87bbf8442f4c85b9fe3392e97ddb10",
       "style": "IPY_MODEL_166e1e22f26c4f3b899c74261810529d"
      }
     },
     "5200bffd47044d4297b09fd9b7b6bdf8": {
      "model_module": "@jupyter-widgets/controls",
      "model_module_version": "1.5.0",
      "model_name": "HBoxModel",
      "state": {
       "children": [
        "IPY_MODEL_38531a8b9e3046c28be42c1bb78a4f52",
        "IPY_MODEL_80aba0b0840747b1b428194dd87219d6"
       ],
       "layout": "IPY_MODEL_b1cbcb952484459fa4b3f0ae760fbf24"
      }
     },
     "521c409141c54df09bdbab90de4ae4f6": {
      "model_module": "@jupyter-widgets/base",
      "model_module_version": "1.2.0",
      "model_name": "LayoutModel",
      "state": {}
     },
     "5363a2897e9448ef9cc147773b6a7081": {
      "model_module": "@jupyter-widgets/controls",
      "model_module_version": "1.5.0",
      "model_name": "DescriptionStyleModel",
      "state": {
       "description_width": ""
      }
     },
     "538ab29e668b4f6d935cb0b607b966de": {
      "model_module": "@jupyter-widgets/controls",
      "model_module_version": "1.5.0",
      "model_name": "VBoxModel",
      "state": {
       "children": [
        "IPY_MODEL_f0a57272419b47609843aaa6f9421519",
        "IPY_MODEL_3b7f038116a04c71afe8a1e40740a027"
       ],
       "layout": "IPY_MODEL_739cb78606ed4547b1e483c76fb213fd"
      }
     },
     "5478bc921c894008af486496b949914f": {
      "model_module": "@jupyter-widgets/controls",
      "model_module_version": "1.5.0",
      "model_name": "HBoxModel",
      "state": {
       "children": [
        "IPY_MODEL_248d78e888d74c5db12706e646efcfc0",
        "IPY_MODEL_784d49071f85470e9fdf471eaf29cdba"
       ],
       "layout": "IPY_MODEL_e2e90fea248242c49ced163c267d06f6"
      }
     },
     "55429c70ae50499faab74b7bd1c96683": {
      "model_module": "@jupyter-widgets/base",
      "model_module_version": "1.2.0",
      "model_name": "LayoutModel",
      "state": {}
     },
     "5596f568d95b413c878bee3f80e0dfe3": {
      "model_module": "@jupyter-widgets/controls",
      "model_module_version": "1.5.0",
      "model_name": "ButtonStyleModel",
      "state": {}
     },
     "564923be897245deacd166353da6ba85": {
      "model_module": "@jupyter-widgets/base",
      "model_module_version": "1.2.0",
      "model_name": "LayoutModel",
      "state": {}
     },
     "56622e17b3244bcf92413ef1183e7795": {
      "model_module": "@jupyter-widgets/base",
      "model_module_version": "1.2.0",
      "model_name": "LayoutModel",
      "state": {}
     },
     "57b500aa3c53489eae8055600ea28826": {
      "model_module": "@jupyter-widgets/base",
      "model_module_version": "1.2.0",
      "model_name": "LayoutModel",
      "state": {
       "flex_flow": "row wrap",
       "margin": "20px"
      }
     },
     "58d8d34422fd40e1abcb2f4c6ee12d43": {
      "model_module": "@jupyter-widgets/controls",
      "model_module_version": "1.5.0",
      "model_name": "ButtonStyleModel",
      "state": {}
     },
     "59ef47f55717408b9f85280f5a5085ad": {
      "model_module": "@jupyter-widgets/base",
      "model_module_version": "1.2.0",
      "model_name": "LayoutModel",
      "state": {}
     },
     "5a9aa232eab846cea6c8fc4daf5a9370": {
      "model_module": "@jupyter-widgets/base",
      "model_module_version": "1.2.0",
      "model_name": "LayoutModel",
      "state": {}
     },
     "5ab2697623b8445680eca4c7b14d1d2c": {
      "model_module": "@jupyter-widgets/controls",
      "model_module_version": "1.5.0",
      "model_name": "DescriptionStyleModel",
      "state": {
       "description_width": ""
      }
     },
     "5ab7886568dc4fac82bbc86aa7370d72": {
      "model_module": "@jupyter-widgets/controls",
      "model_module_version": "1.5.0",
      "model_name": "DescriptionStyleModel",
      "state": {
       "description_width": ""
      }
     },
     "5b32d1b332644efeb9f4f810b49083cb": {
      "model_module": "@jupyter-widgets/controls",
      "model_module_version": "1.5.0",
      "model_name": "VBoxModel",
      "state": {
       "children": [
        "IPY_MODEL_e8ee4b61e635433c9e0f1137d82ce1fa",
        "IPY_MODEL_3eee6efd267b4448899f9a0d891fe492"
       ],
       "layout": "IPY_MODEL_0ee82811196e4aaeb191e85fbe6f4086"
      }
     },
     "5c4a20c7bb1e418aa32258b8d5246e26": {
      "model_module": "@jupyter-widgets/controls",
      "model_module_version": "1.5.0",
      "model_name": "ButtonStyleModel",
      "state": {}
     },
     "5d38aace48864003b21467e5eee8d60f": {
      "model_module": "@jupyter-widgets/controls",
      "model_module_version": "1.5.0",
      "model_name": "TabModel",
      "state": {
       "_titles": {
        "0": "particles.json"
       },
       "children": [
        "IPY_MODEL_61b5bc03fca64627833b219870ffb0d3"
       ],
       "layout": "IPY_MODEL_e587a18592224d1eb3d81b435e5da632"
      }
     },
     "5e251e3ed57745a6b7e1753c8e69429b": {
      "model_module": "@jupyter-widgets/base",
      "model_module_version": "1.2.0",
      "model_name": "LayoutModel",
      "state": {}
     },
     "5e8ce39dbc1246a09083ae142d6bd497": {
      "model_module": "@jupyter-widgets/controls",
      "model_module_version": "1.5.0",
      "model_name": "ButtonModel",
      "state": {
       "description": "Delete",
       "layout": "IPY_MODEL_60e4a9af0b624008a12874bf8a40e847",
       "style": "IPY_MODEL_0889f478495143da802795d272217106"
      }
     },
     "5ee85fbd478a45e3ac66c541ed21b269": {
      "model_module": "@jupyter-widgets/base",
      "model_module_version": "1.2.0",
      "model_name": "LayoutModel",
      "state": {}
     },
     "60e4a9af0b624008a12874bf8a40e847": {
      "model_module": "@jupyter-widgets/base",
      "model_module_version": "1.2.0",
      "model_name": "LayoutModel",
      "state": {}
     },
     "61b5bc03fca64627833b219870ffb0d3": {
      "model_module": "@jupyter-widgets/controls",
      "model_module_version": "1.5.0",
      "model_name": "AccordionModel",
      "state": {
       "_titles": {
        "0": "scalars",
        "1": "materials",
        "2": "functions",
        "3": "curves"
       },
       "children": [
        "IPY_MODEL_a7f560ec341d485a9cd111719bdc75f0",
        "IPY_MODEL_bbd2c9efe7e042ecb0b7fabec49c35d2",
        "IPY_MODEL_7f79ae3d23454cf990ff2f27c1d5a1dd",
        "IPY_MODEL_ed235838e3704305ae69b4a8f0444ac6"
       ],
       "layout": "IPY_MODEL_8da3421984dd4abb9e9d9d8ac728f3b0"
      }
     },
     "61d547a2fb88424caebb569dd3aad0cc": {
      "model_module": "@jupyter-widgets/base",
      "model_module_version": "1.2.0",
      "model_name": "LayoutModel",
      "state": {}
     },
     "62432ae8a080416abb20ee84dfea4050": {
      "model_module": "@jupyter-widgets/base",
      "model_module_version": "1.2.0",
      "model_name": "LayoutModel",
      "state": {}
     },
     "6466be8807fd4d4096286dbc66b782c3": {
      "model_module": "@jupyter-widgets/base",
      "model_module_version": "1.2.0",
      "model_name": "LayoutModel",
      "state": {}
     },
     "64d465fdb248448d842024ddc1b3172e": {
      "model_module": "@jupyter-widgets/controls",
      "model_module_version": "1.5.0",
      "model_name": "ButtonModel",
      "state": {
       "description": "Apply changes",
       "layout": "IPY_MODEL_69f27eb150bb494ea8487c3191a23831",
       "style": "IPY_MODEL_9d13ab7c9c5e4b4abfc06e00b20250d1"
      }
     },
     "6745de28c7384ca3b94fb8c299a8a491": {
      "model_module": "@jupyter-widgets/controls",
      "model_module_version": "1.5.0",
      "model_name": "HBoxModel",
      "state": {
       "children": [
        "IPY_MODEL_64d465fdb248448d842024ddc1b3172e",
        "IPY_MODEL_3f03ed3a7f9442d682aba3af271bf551"
       ],
       "layout": "IPY_MODEL_89a68dfba4a844dc83c7827ebd273d2e"
      }
     },
     "677e95b85adf403db2e5023f3f4d3170": {
      "model_module": "@jupyter-widgets/controls",
      "model_module_version": "1.5.0",
      "model_name": "HBoxModel",
      "state": {
       "children": [
        "IPY_MODEL_71ccd39621894df79688c4271dacb819",
        "IPY_MODEL_f9f5e527103b403ea1c984338a2c5769"
       ],
       "layout": "IPY_MODEL_9545db1f6ff6425d8ca3693c5473cd34"
      }
     },
     "6896fb8e8f8f46008554313a9807f635": {
      "model_module": "@jupyter-widgets/controls",
      "model_module_version": "1.5.0",
      "model_name": "DropdownModel",
      "state": {
       "index": null,
       "layout": "IPY_MODEL_81fd0e02dda6410580e43dc59b9a14a1",
       "style": "IPY_MODEL_42cf68146073417e8202258881675d46"
      }
     },
     "68cd22069b874b92b71a18b6ce95ecd6": {
      "model_module": "@jupyter-widgets/controls",
      "model_module_version": "1.5.0",
      "model_name": "DropdownModel",
      "state": {
       "_options_labels": [
        "NurbsCurve2D"
       ],
       "index": 0,
       "layout": "IPY_MODEL_690603a8bf8040eab919abfee07263bb",
       "style": "IPY_MODEL_c7fc81a14bee405f824afe92dc2b8543"
      }
     },
     "690603a8bf8040eab919abfee07263bb": {
      "model_module": "@jupyter-widgets/base",
      "model_module_version": "1.2.0",
      "model_name": "LayoutModel",
      "state": {}
     },
     "69f27eb150bb494ea8487c3191a23831": {
      "model_module": "@jupyter-widgets/base",
      "model_module_version": "1.2.0",
      "model_name": "LayoutModel",
      "state": {}
     },
     "6a086eae4f9d487a9be81e809f3cbfdb": {
      "model_module": "@jupyter-widgets/controls",
      "model_module_version": "1.5.0",
      "model_name": "DropdownModel",
      "state": {
       "_options_labels": [
        "Integer",
        "Float",
        "Bool"
       ],
       "index": 0,
       "layout": "IPY_MODEL_5a9aa232eab846cea6c8fc4daf5a9370",
       "style": "IPY_MODEL_db5bceefbd694513800418f4cc81f2ae"
      }
     },
     "6b3d526ccd7448c3bf586ad79487c415": {
      "model_module": "@jupyter-widgets/base",
      "model_module_version": "1.2.0",
      "model_name": "LayoutModel",
      "state": {}
     },
     "6e1c0f2101dc4f4b9101d06d2a07a003": {
      "model_module": "@jupyter-widgets/controls",
      "model_module_version": "1.5.0",
      "model_name": "DropdownModel",
      "state": {
       "_options_labels": [
        "NurbsCurve2D",
        "BezierCurve2D",
        "Polyline2D"
       ],
       "index": 0,
       "layout": "IPY_MODEL_05fe6881a16643a2bdd9490894fed03e",
       "style": "IPY_MODEL_ccc335ee663c4882aa4aaa9d76f793a6"
      }
     },
     "71ccd39621894df79688c4271dacb819": {
      "model_module": "@jupyter-widgets/controls",
      "model_module_version": "1.5.0",
      "model_name": "ButtonModel",
      "state": {
       "description": "Delete",
       "layout": "IPY_MODEL_de212178dfa1483fa425414ab4112bf2",
       "style": "IPY_MODEL_3a44ac961cf2460d9025d67298bf01fa"
      }
     },
     "7204af9596bc4f979e2a754ba382691d": {
      "model_module": "@jupyter-widgets/controls",
      "model_module_version": "1.5.0",
      "model_name": "HBoxModel",
      "state": {
       "children": [
        "IPY_MODEL_d6245c7244594773b9437f099bc01b0e",
        "IPY_MODEL_412e02e2f0bf4333a4fa7e45ef6ea803"
       ],
       "layout": "IPY_MODEL_57b500aa3c53489eae8055600ea28826"
      }
     },
     "72e7c8b3584946919079a521e16ca354": {
      "model_module": "@jupyter-widgets/controls",
      "model_module_version": "1.5.0",
      "model_name": "HBoxModel",
      "state": {
       "children": [
        "IPY_MODEL_64d465fdb248448d842024ddc1b3172e",
        "IPY_MODEL_3f03ed3a7f9442d682aba3af271bf551"
       ],
       "layout": "IPY_MODEL_e624bcdf2ed240b3bc306472801a29b4"
      }
     },
     "7348156f0f284e16ad7e6e3015c255de": {
      "model_module": "@jupyter-widgets/controls",
      "model_module_version": "1.5.0",
      "model_name": "ButtonStyleModel",
      "state": {}
     },
     "735dd3011e044cdc83ff4622c17383cd": {
      "model_module": "@jupyter-widgets/controls",
      "model_module_version": "1.5.0",
      "model_name": "ButtonStyleModel",
      "state": {}
     },
     "739cb78606ed4547b1e483c76fb213fd": {
      "model_module": "@jupyter-widgets/base",
      "model_module_version": "1.2.0",
      "model_name": "LayoutModel",
      "state": {}
     },
     "73b01a04e3cc47b19c0d513adf947555": {
      "model_module": "@jupyter-widgets/base",
      "model_module_version": "1.2.0",
      "model_name": "LayoutModel",
      "state": {}
     },
     "7482d983e32c42e69db49862a49a4b71": {
      "model_module": "@jupyter-widgets/controls",
      "model_module_version": "1.5.0",
      "model_name": "ButtonModel",
      "state": {
       "description": "Add",
       "layout": "IPY_MODEL_ea06fc6d358641dc81188897bbc4acdc",
       "style": "IPY_MODEL_96145fd8942f4b0b838c75dc857b4db0"
      }
     },
     "76aae0476f174a1c9f93a9c0172382f0": {
      "model_module": "@jupyter-widgets/controls",
      "model_module_version": "1.5.0",
      "model_name": "HBoxModel",
      "state": {
       "layout": "IPY_MODEL_a3359b38bcad419a9fe74226259b3d3c"
      }
     },
     "784d49071f85470e9fdf471eaf29cdba": {
      "model_module": "@jupyter-widgets/controls",
      "model_module_version": "1.5.0",
      "model_name": "HBoxModel",
      "state": {
       "children": [
        "IPY_MODEL_5e8ce39dbc1246a09083ae142d6bd497",
        "IPY_MODEL_d3aef337f3c840b2a053e7d134da169f"
       ],
       "layout": "IPY_MODEL_0f18f17f650e4ca79b23a1783c3c5614"
      }
     },
     "78cbf5251f3f4ee9a0a9a7e3009e7049": {
      "model_module": "@jupyter-widgets/base",
      "model_module_version": "1.2.0",
      "model_name": "LayoutModel",
      "state": {}
     },
     "79ca96862f184dbe992eb9e148b82c9c": {
      "model_module": "@jupyter-widgets/controls",
      "model_module_version": "1.5.0",
      "model_name": "HBoxModel",
      "state": {
       "children": [
        "IPY_MODEL_38531a8b9e3046c28be42c1bb78a4f52",
        "IPY_MODEL_80aba0b0840747b1b428194dd87219d6"
       ],
       "layout": "IPY_MODEL_4e8b5ae8f7014cf09872564044016501"
      }
     },
     "7f48bd273b794226aaaa138ce61c62f9": {
      "model_module": "@jupyter-widgets/controls",
      "model_module_version": "1.5.0",
      "model_name": "HBoxModel",
      "state": {
       "children": [
        "IPY_MODEL_156688329a884bc4943c22b6b531e23b",
        "IPY_MODEL_b93037e9730f40f48ddec4181f4c6de8"
       ],
       "layout": "IPY_MODEL_8a770bea21674a9eb89943250d1c82d4"
      }
     },
     "7f79ae3d23454cf990ff2f27c1d5a1dd": {
      "model_module": "@jupyter-widgets/controls",
      "model_module_version": "1.5.0",
      "model_name": "VBoxModel",
      "state": {
       "children": [
        "IPY_MODEL_5478bc921c894008af486496b949914f",
        "IPY_MODEL_f3b4ab9d32c64d83858950baaa2d029d"
       ],
       "layout": "IPY_MODEL_daa7193839f242d7aa30725b83fea63f"
      }
     },
     "7fb3e2e752764253b52ab3ec74d46cab": {
      "model_module": "@jupyter-widgets/controls",
      "model_module_version": "1.5.0",
      "model_name": "VBoxModel",
      "state": {
       "children": [
        "IPY_MODEL_d38267828f564922b40ff90771ede547",
        "IPY_MODEL_5d38aace48864003b21467e5eee8d60f"
       ],
       "layout": "IPY_MODEL_d2edaa9925d34a308756c4cf4c68eba2"
      }
     },
     "80aba0b0840747b1b428194dd87219d6": {
      "model_module": "@jupyter-widgets/controls",
      "model_module_version": "1.5.0",
      "model_name": "CheckboxModel",
      "state": {
       "description": "Auto save",
       "disabled": false,
       "layout": "IPY_MODEL_af9f36c5e8ca49d7b17b45ccedccd63c",
       "style": "IPY_MODEL_b1cf63c4fa3e40c3832e9b4f37cb285f",
       "value": false
      }
     },
     "80f5356e68e74d87a23f405dbd935d0c": {
      "model_module": "@jupyter-widgets/base",
      "model_module_version": "1.2.0",
      "model_name": "LayoutModel",
      "state": {}
     },
     "818cec2bcdf0489aafe7f44c2a2cb7c7": {
      "model_module": "@jupyter-widgets/base",
      "model_module_version": "1.2.0",
      "model_name": "LayoutModel",
      "state": {}
     },
     "81fd0e02dda6410580e43dc59b9a14a1": {
      "model_module": "@jupyter-widgets/base",
      "model_module_version": "1.2.0",
      "model_name": "LayoutModel",
      "state": {}
     },
     "8209df04fb434012b5810936ee82b69d": {
      "model_module": "pgljupyter",
      "model_module_version": "^0.1.9",
      "model_name": "LsystemWidgetModel",
      "state": {
       "_model_module_version": "^0.1.9",
       "_view_module_version": "^0.1.9",
       "axes_helper": false,
       "derivationLength": 500,
       "layout": "IPY_MODEL_f03266f5519d4b0e8971805183bbb770",
       "light_helper": false,
       "plane": true,
       "size_display": [
        400,
        400
       ],
       "size_world": [
        10,
        10,
        10
       ],
       "unit": 1
      }
     },
     "821a913888064c0890be81ce3db65c39": {
      "model_module": "@jupyter-widgets/controls",
      "model_module_version": "1.5.0",
      "model_name": "DropdownModel",
      "state": {
       "index": null,
       "layout": "IPY_MODEL_477a6f6582034fd6ab1530e0601073bc",
       "style": "IPY_MODEL_5363a2897e9448ef9cc147773b6a7081"
      }
     },
     "83688dd6fca4480a97011491b58aa85e": {
      "model_module": "@jupyter-widgets/controls",
      "model_module_version": "1.5.0",
      "model_name": "HBoxModel",
      "state": {
       "layout": "IPY_MODEL_d8ae5f59cb3d44d9a3be61a4b38f2459"
      }
     },
     "84ed4d6ecbbc43d3a025c2c1483a7b44": {
      "model_module": "@jupyter-widgets/controls",
      "model_module_version": "1.5.0",
      "model_name": "HBoxModel",
      "state": {
       "layout": "IPY_MODEL_d8ae5f59cb3d44d9a3be61a4b38f2459"
      }
     },
     "84f4338d7dbc40bdb6d5ad59a3eedda8": {
      "model_module": "@jupyter-widgets/base",
      "model_module_version": "1.2.0",
      "model_name": "LayoutModel",
      "state": {}
     },
     "8596eb9195514d2cbe9d58100bd7748a": {
      "model_module": "@jupyter-widgets/controls",
      "model_module_version": "1.5.0",
      "model_name": "AccordionModel",
      "state": {
       "_titles": {
        "0": "scalars",
        "1": "materials",
        "2": "functions",
        "3": "curves"
       },
       "children": [
        "IPY_MODEL_03ce97f6d2e348fea19284daaad8e9e4",
        "IPY_MODEL_92fb8cded00243318c3619fd6830f1f8",
        "IPY_MODEL_b5997dc00cb84635b96b09b6fcda4907",
        "IPY_MODEL_2597573eb0984acea78ee9e886f93cb6"
       ],
       "layout": "IPY_MODEL_3ba6c0ef02b446fb94b7a21ba5e5ff3c"
      }
     },
     "85a55a9faf594d8db140e45935844b4e": {
      "model_module": "@jupyter-widgets/controls",
      "model_module_version": "1.5.0",
      "model_name": "HBoxModel",
      "state": {
       "layout": "IPY_MODEL_8af1cb40710e416c8eaa3d15f959c047"
      }
     },
     "85fed907e25b494f9bb0efd293daa1ee": {
      "model_module": "@jupyter-widgets/controls",
      "model_module_version": "1.5.0",
      "model_name": "ButtonModel",
      "state": {
       "description": "Add",
       "layout": "IPY_MODEL_1c02b9a313a048099b9179dab3f6b19b",
       "style": "IPY_MODEL_3e2060b489e64dac95048f909020dc4d"
      }
     },
     "868d4480e2ba4f9d9b6d588f58d1a869": {
      "model_module": "@jupyter-widgets/base",
      "model_module_version": "1.2.0",
      "model_name": "LayoutModel",
      "state": {}
     },
     "89a68dfba4a844dc83c7827ebd273d2e": {
      "model_module": "@jupyter-widgets/base",
      "model_module_version": "1.2.0",
      "model_name": "LayoutModel",
      "state": {}
     },
     "89eef74a98024f829c8d47f06cb4b7d5": {
      "model_module": "@jupyter-widgets/controls",
      "model_module_version": "1.5.0",
      "model_name": "VBoxModel",
      "state": {
       "children": [
        "IPY_MODEL_7204af9596bc4f979e2a754ba382691d",
        "IPY_MODEL_76aae0476f174a1c9f93a9c0172382f0"
       ],
       "layout": "IPY_MODEL_49fe9287411c4ac6b3518fa219f8dc1c"
      }
     },
     "8a770bea21674a9eb89943250d1c82d4": {
      "model_module": "@jupyter-widgets/base",
      "model_module_version": "1.2.0",
      "model_name": "LayoutModel",
      "state": {}
     },
     "8af1cb40710e416c8eaa3d15f959c047": {
      "model_module": "@jupyter-widgets/base",
      "model_module_version": "1.2.0",
      "model_name": "LayoutModel",
      "state": {
       "flex_flow": "row wrap",
       "margin": "20px"
      }
     },
     "8afcf1d5aab848b2855a4042f0562a66": {
      "model_module": "@jupyter-widgets/base",
      "model_module_version": "1.2.0",
      "model_name": "LayoutModel",
      "state": {}
     },
     "8da3421984dd4abb9e9d9d8ac728f3b0": {
      "model_module": "@jupyter-widgets/base",
      "model_module_version": "1.2.0",
      "model_name": "LayoutModel",
      "state": {}
     },
     "8e8984327ab54b4e8f44c2117ed18343": {
      "model_module": "@jupyter-widgets/base",
      "model_module_version": "1.2.0",
      "model_name": "LayoutModel",
      "state": {}
     },
     "8e8c57be82f74d04a3cb028ed42b0d98": {
      "model_module": "@jupyter-widgets/controls",
      "model_module_version": "1.5.0",
      "model_name": "ButtonModel",
      "state": {
       "description": "Delete",
       "layout": "IPY_MODEL_78cbf5251f3f4ee9a0a9a7e3009e7049",
       "style": "IPY_MODEL_024a95a5802046a6a1ea28e12b433d75"
      }
     },
     "8f11f5f8afef463fa9f368ef9a3878b9": {
      "model_module": "@jupyter-widgets/controls",
      "model_module_version": "1.5.0",
      "model_name": "ButtonModel",
      "state": {
       "description": "Delete",
       "layout": "IPY_MODEL_0990e42ee26a43dab9c722487d54faca",
       "style": "IPY_MODEL_735dd3011e044cdc83ff4622c17383cd"
      }
     },
     "902eb24d085543efb4769140ce1b7805": {
      "model_module": "@jupyter-widgets/controls",
      "model_module_version": "1.5.0",
      "model_name": "ButtonModel",
      "state": {
       "description": "Add",
       "layout": "IPY_MODEL_9b2732194aee43e5859a25ff20e7871b",
       "style": "IPY_MODEL_5c4a20c7bb1e418aa32258b8d5246e26"
      }
     },
     "90d1501592344503857bcfb72dd9bfd1": {
      "model_module": "@jupyter-widgets/controls",
      "model_module_version": "1.5.0",
      "model_name": "VBoxModel",
      "state": {
       "children": [
        "IPY_MODEL_bd19deef5e8f420d919a6d56d85945a9",
        "IPY_MODEL_ed836bbf860c4ef381476e6d78736840"
       ],
       "layout": "IPY_MODEL_818cec2bcdf0489aafe7f44c2a2cb7c7"
      }
     },
     "9160794689e94cdf8defd26858da795a": {
      "model_module": "@jupyter-widgets/base",
      "model_module_version": "1.2.0",
      "model_name": "LayoutModel",
      "state": {
       "flex_flow": "row wrap",
       "margin": "20px"
      }
     },
     "9199f43b63234974865854914604d8f4": {
      "model_module": "@jupyter-widgets/base",
      "model_module_version": "1.2.0",
      "model_name": "LayoutModel",
      "state": {}
     },
     "92fb8cded00243318c3619fd6830f1f8": {
      "model_module": "@jupyter-widgets/controls",
      "model_module_version": "1.5.0",
      "model_name": "VBoxModel",
      "state": {
       "children": [
        "IPY_MODEL_ee2c5818a5164463b337d965195d2001",
        "IPY_MODEL_44a9ba5896634ef8be9912d39464e6d4"
       ],
       "layout": "IPY_MODEL_f10b5e6f834346ae9066e6ca9781ac47"
      }
     },
     "9408547a75a843c2b99c55d49c411d6c": {
      "model_module": "@jupyter-widgets/base",
      "model_module_version": "1.2.0",
      "model_name": "LayoutModel",
      "state": {}
     },
     "94958c25aedc485794ec7638491c919a": {
      "model_module": "@jupyter-widgets/controls",
      "model_module_version": "1.5.0",
      "model_name": "DropdownModel",
      "state": {
       "index": null,
       "layout": "IPY_MODEL_241fc285f672407a92482813c682ac72",
       "style": "IPY_MODEL_bb9665dc148749b5bfbabeebf853104e"
      }
     },
     "9514629e71c249eabf1f1e7f24d298b3": {
      "model_module": "@jupyter-widgets/controls",
      "model_module_version": "1.5.0",
      "model_name": "DescriptionStyleModel",
      "state": {
       "description_width": ""
      }
     },
     "9545db1f6ff6425d8ca3693c5473cd34": {
      "model_module": "@jupyter-widgets/base",
      "model_module_version": "1.2.0",
      "model_name": "LayoutModel",
      "state": {}
     },
     "95c37c5693554a1089e10a12f3a10b85": {
      "model_module": "@jupyter-widgets/controls",
      "model_module_version": "1.5.0",
      "model_name": "ButtonModel",
      "state": {
       "description": "Delete",
       "layout": "IPY_MODEL_9199f43b63234974865854914604d8f4",
       "style": "IPY_MODEL_fecb9caa14454277a1f046e580879d8c"
      }
     },
     "96145fd8942f4b0b838c75dc857b4db0": {
      "model_module": "@jupyter-widgets/controls",
      "model_module_version": "1.5.0",
      "model_name": "ButtonStyleModel",
      "state": {}
     },
     "98d21d479c5e481e974e0578165eb063": {
      "model_module": "@jupyter-widgets/base",
      "model_module_version": "1.2.0",
      "model_name": "LayoutModel",
      "state": {}
     },
     "9b2732194aee43e5859a25ff20e7871b": {
      "model_module": "@jupyter-widgets/base",
      "model_module_version": "1.2.0",
      "model_name": "LayoutModel",
      "state": {}
     },
     "9c64e295b1be4917b433c22b5e9376b7": {
      "model_module": "@jupyter-widgets/base",
      "model_module_version": "1.2.0",
      "model_name": "LayoutModel",
      "state": {
       "flex_flow": "row wrap"
      }
     },
     "9d13ab7c9c5e4b4abfc06e00b20250d1": {
      "model_module": "@jupyter-widgets/controls",
      "model_module_version": "1.5.0",
      "model_name": "ButtonStyleModel",
      "state": {}
     },
     "9d6f61822a7c478a9f202ccba11f94ab": {
      "model_module": "@jupyter-widgets/base",
      "model_module_version": "1.2.0",
      "model_name": "LayoutModel",
      "state": {}
     },
     "9ddec695f49e4c4bbab555d6b6d7da7c": {
      "model_module": "@jupyter-widgets/base",
      "model_module_version": "1.2.0",
      "model_name": "LayoutModel",
      "state": {}
     },
     "9f3499d3b86f48cdaf1c4ddd120e1fd4": {
      "model_module": "@jupyter-widgets/controls",
      "model_module_version": "1.5.0",
      "model_name": "ButtonStyleModel",
      "state": {}
     },
     "a24232184c864ae0aaaffa342e31ab7f": {
      "model_module": "@jupyter-widgets/controls",
      "model_module_version": "1.5.0",
      "model_name": "DropdownModel",
      "state": {
       "index": null,
       "layout": "IPY_MODEL_ebfcc03d0b5345b3a6f5185b15b23618",
       "style": "IPY_MODEL_c90042e4d3e940aca42166376d970ab3"
      }
     },
     "a3359b38bcad419a9fe74226259b3d3c": {
      "model_module": "@jupyter-widgets/base",
      "model_module_version": "1.2.0",
      "model_name": "LayoutModel",
      "state": {
       "flex_flow": "row wrap",
       "margin": "20px"
      }
     },
     "a3cdf8ec294e40c0b32157e09fe4efb7": {
      "model_module": "@jupyter-widgets/base",
      "model_module_version": "1.2.0",
      "model_name": "LayoutModel",
      "state": {}
     },
     "a47af3d4576a42a381336e9e2c1bd27f": {
      "model_module": "@jupyter-widgets/base",
      "model_module_version": "1.2.0",
      "model_name": "LayoutModel",
      "state": {}
     },
     "a4c1695a6b3d44d6b35fd2a771cf916c": {
      "model_module": "@jupyter-widgets/base",
      "model_module_version": "1.2.0",
      "model_name": "LayoutModel",
      "state": {}
     },
     "a761c8b2b9b7401287432eb99d99bc39": {
      "model_module": "@jupyter-widgets/base",
      "model_module_version": "1.2.0",
      "model_name": "LayoutModel",
      "state": {}
     },
     "a7f560ec341d485a9cd111719bdc75f0": {
      "model_module": "@jupyter-widgets/controls",
      "model_module_version": "1.5.0",
      "model_name": "VBoxModel",
      "state": {
       "children": [
        "IPY_MODEL_aef9992291fd4defb88dfe7538760ecd",
        "IPY_MODEL_1e412daa4b7d439c8647be27033c3b21"
       ],
       "layout": "IPY_MODEL_ac9101dae23b4511860d60bf4b6bbfc7"
      }
     },
     "a82d97510b784c5fb05e815040466be9": {
      "model_module": "@jupyter-widgets/controls",
      "model_module_version": "1.5.0",
      "model_name": "DropdownModel",
      "state": {
       "index": null,
       "layout": "IPY_MODEL_61d547a2fb88424caebb569dd3aad0cc",
       "style": "IPY_MODEL_3a5af394fb4e440ebcdec98d96442ceb"
      }
     },
     "a8bf640859a14f2e92a6561264614506": {
      "model_module": "@jupyter-widgets/base",
      "model_module_version": "1.2.0",
      "model_name": "LayoutModel",
      "state": {}
     },
     "a8c7c8fdbabc4a99b841a69e8a797813": {
      "model_module": "pgljupyter",
      "model_module_version": "^0.1.9",
      "model_name": "ParameterEditorModel",
      "state": {
       "_model_module_version": "^0.1.9",
       "_view_module_version": "^0.1.9",
       "children": [
        "IPY_MODEL_7fb3e2e752764253b52ab3ec74d46cab"
       ],
       "layout": "IPY_MODEL_dd789f05f3e24330b02a0eeda19ba72d"
      }
     },
     "aad0b958b42044cf85427c4c82061d4c": {
      "model_module": "@jupyter-widgets/controls",
      "model_module_version": "1.5.0",
      "model_name": "DropdownModel",
      "state": {
       "_options_labels": [
        "NurbsCurve2D",
        "BezierCurve2D",
        "Polyline2D"
       ],
       "index": 0,
       "layout": "IPY_MODEL_a8bf640859a14f2e92a6561264614506",
       "style": "IPY_MODEL_9514629e71c249eabf1f1e7f24d298b3"
      }
     },
     "aaf5e2c8a2564ff49e7b68c039b181a1": {
      "model_module": "@jupyter-widgets/controls",
      "model_module_version": "1.5.0",
      "model_name": "HBoxModel",
      "state": {
       "children": [
        "IPY_MODEL_f334188710cd42538270416c9ca4859c",
        "IPY_MODEL_13a6c777872347b9b1f5444b2d1a6e0e"
       ],
       "layout": "IPY_MODEL_62432ae8a080416abb20ee84dfea4050"
      }
     },
     "ab9fa99eac354afbba91c017be037288": {
      "model_module": "@jupyter-widgets/controls",
      "model_module_version": "1.5.0",
      "model_name": "HBoxModel",
      "state": {
       "children": [
        "IPY_MODEL_7f48bd273b794226aaaa138ce61c62f9",
        "IPY_MODEL_677e95b85adf403db2e5023f3f4d3170"
       ],
       "layout": "IPY_MODEL_57b500aa3c53489eae8055600ea28826"
      }
     },
     "ac66e2bfd70a473e9a0a3391a7a5a017": {
      "model_module": "@jupyter-widgets/controls",
      "model_module_version": "1.5.0",
      "model_name": "ButtonModel",
      "state": {
       "description": "Delete",
       "layout": "IPY_MODEL_a3cdf8ec294e40c0b32157e09fe4efb7",
       "style": "IPY_MODEL_0f18845bc99545cf83ae9f4b9b034493"
      }
     },
     "ac9101dae23b4511860d60bf4b6bbfc7": {
      "model_module": "@jupyter-widgets/base",
      "model_module_version": "1.2.0",
      "model_name": "LayoutModel",
      "state": {}
     },
     "ac98b590a0254e72afb514c9678fa56a": {
      "model_module": "@jupyter-widgets/base",
      "model_module_version": "1.2.0",
      "model_name": "LayoutModel",
      "state": {}
     },
     "acd14894c29a41a78d09b1c453ae7343": {
      "model_module": "@jupyter-widgets/controls",
      "model_module_version": "1.5.0",
      "model_name": "HBoxModel",
      "state": {
       "children": [
        "IPY_MODEL_bde1f348f4c14ed18ffd01a7e75a6b74",
        "IPY_MODEL_3433a16c1b6e4cbf9d78963a907f799b"
       ],
       "layout": "IPY_MODEL_9160794689e94cdf8defd26858da795a"
      }
     },
     "ae683aaa674d43b68913a6368ec1cc1f": {
      "model_module": "@jupyter-widgets/controls",
      "model_module_version": "1.5.0",
      "model_name": "HBoxModel",
      "state": {
       "children": [
        "IPY_MODEL_64d465fdb248448d842024ddc1b3172e",
        "IPY_MODEL_3f03ed3a7f9442d682aba3af271bf551"
       ],
       "layout": "IPY_MODEL_98d21d479c5e481e974e0578165eb063"
      }
     },
     "aef9992291fd4defb88dfe7538760ecd": {
      "model_module": "@jupyter-widgets/controls",
      "model_module_version": "1.5.0",
      "model_name": "HBoxModel",
      "state": {
       "children": [
        "IPY_MODEL_cdcaf3d917474e8aace921421d93803e",
        "IPY_MODEL_b2ab236fd09a4b50af8df653c51c760e"
       ],
       "layout": "IPY_MODEL_e2e90fea248242c49ced163c267d06f6"
      }
     },
     "af9f36c5e8ca49d7b17b45ccedccd63c": {
      "model_module": "@jupyter-widgets/base",
      "model_module_version": "1.2.0",
      "model_name": "LayoutModel",
      "state": {}
     },
     "afae428f146b4a1686e9c9b861177191": {
      "model_module": "@jupyter-widgets/controls",
      "model_module_version": "1.5.0",
      "model_name": "ButtonModel",
      "state": {
       "description": "Delete",
       "layout": "IPY_MODEL_24b2349fa5e949498a58a84c286c48b9",
       "style": "IPY_MODEL_eaad4e1f8ef34ec8a8fe16f1392d2b0f"
      }
     },
     "b0267327fde34dbc807ba458d40398b1": {
      "model_module": "@jupyter-widgets/controls",
      "model_module_version": "1.5.0",
      "model_name": "ButtonStyleModel",
      "state": {}
     },
     "b1a441bc7cf0405b838539e1937a3364": {
      "model_module": "@jupyter-widgets/controls",
      "model_module_version": "1.5.0",
      "model_name": "DescriptionStyleModel",
      "state": {
       "description_width": ""
      }
     },
     "b1cbcb952484459fa4b3f0ae760fbf24": {
      "model_module": "@jupyter-widgets/base",
      "model_module_version": "1.2.0",
      "model_name": "LayoutModel",
      "state": {}
     },
     "b1cf63c4fa3e40c3832e9b4f37cb285f": {
      "model_module": "@jupyter-widgets/controls",
      "model_module_version": "1.5.0",
      "model_name": "DescriptionStyleModel",
      "state": {
       "description_width": ""
      }
     },
     "b2ab236fd09a4b50af8df653c51c760e": {
      "model_module": "@jupyter-widgets/controls",
      "model_module_version": "1.5.0",
      "model_name": "HBoxModel",
      "state": {
       "children": [
        "IPY_MODEL_ac66e2bfd70a473e9a0a3391a7a5a017",
        "IPY_MODEL_00ed6d8e89fa4ec5a352271e4a398a58"
       ],
       "layout": "IPY_MODEL_18e5d11e9e974226a4fcc82c11a0aaee"
      }
     },
     "b2c0aa84e61b4ae19eaa87bd024e1b4c": {
      "model_module": "@jupyter-widgets/controls",
      "model_module_version": "1.5.0",
      "model_name": "ButtonStyleModel",
      "state": {}
     },
     "b34e2ad004294f43895350588206fd07": {
      "model_module": "@jupyter-widgets/controls",
      "model_module_version": "1.5.0",
      "model_name": "ButtonModel",
      "state": {
       "description": "Delete",
       "layout": "IPY_MODEL_3542fd5819f748f0859bd6893fd45e57",
       "style": "IPY_MODEL_7348156f0f284e16ad7e6e3015c255de"
      }
     },
     "b5818c0c2dc7433280494a34ec5b177e": {
      "model_module": "@jupyter-widgets/base",
      "model_module_version": "1.2.0",
      "model_name": "LayoutModel",
      "state": {}
     },
     "b5997dc00cb84635b96b09b6fcda4907": {
      "model_module": "@jupyter-widgets/controls",
      "model_module_version": "1.5.0",
      "model_name": "VBoxModel",
      "state": {
       "children": [
        "IPY_MODEL_2832e96ffe4040a5b4f10128e546686b",
        "IPY_MODEL_83688dd6fca4480a97011491b58aa85e"
       ],
       "layout": "IPY_MODEL_ea566694e5334efe806238be6cb3c332"
      }
     },
     "b7da7423f1844d62a25f7b067392fd46": {
      "model_module": "@jupyter-widgets/controls",
      "model_module_version": "1.5.0",
      "model_name": "ButtonStyleModel",
      "state": {}
     },
     "b93037e9730f40f48ddec4181f4c6de8": {
      "model_module": "@jupyter-widgets/controls",
      "model_module_version": "1.5.0",
      "model_name": "DropdownModel",
      "state": {
       "_options_labels": [
        "Color"
       ],
       "index": 0,
       "layout": "IPY_MODEL_dc8cd868254a46dfbc2c4980b6bcdef4",
       "style": "IPY_MODEL_431fbacf24cf4f509d2377a8f698c279"
      }
     },
     "bb9665dc148749b5bfbabeebf853104e": {
      "model_module": "@jupyter-widgets/controls",
      "model_module_version": "1.5.0",
      "model_name": "DescriptionStyleModel",
      "state": {
       "description_width": ""
      }
     },
     "bbd2c9efe7e042ecb0b7fabec49c35d2": {
      "model_module": "@jupyter-widgets/controls",
      "model_module_version": "1.5.0",
      "model_name": "VBoxModel",
      "state": {
       "children": [
        "IPY_MODEL_230c8af09bbe4071a64268c8b32687b2",
        "IPY_MODEL_1499bf0ac99d4ed9baf1a5bbe91e1bc5"
       ],
       "layout": "IPY_MODEL_4561134b6a4549f9980a9481d30fd116"
      }
     },
     "bd19deef5e8f420d919a6d56d85945a9": {
      "model_module": "@jupyter-widgets/controls",
      "model_module_version": "1.5.0",
      "model_name": "HBoxModel",
      "state": {
       "children": [
        "IPY_MODEL_6745de28c7384ca3b94fb8c299a8a491",
        "IPY_MODEL_1d30e1656cf745238dafe414b5c0cf7d"
       ],
       "layout": "IPY_MODEL_9c64e295b1be4917b433c22b5e9376b7"
      }
     },
     "bda10d17d1cc495391afb86dbdf018fe": {
      "model_module": "@jupyter-widgets/controls",
      "model_module_version": "1.5.0",
      "model_name": "DescriptionStyleModel",
      "state": {
       "description_width": ""
      }
     },
     "bde1f348f4c14ed18ffd01a7e75a6b74": {
      "model_module": "@jupyter-widgets/controls",
      "model_module_version": "1.5.0",
      "model_name": "HBoxModel",
      "state": {
       "children": [
        "IPY_MODEL_bfa893adf3a844f5824e6ac00bb41781",
        "IPY_MODEL_6a086eae4f9d487a9be81e809f3cbfdb"
       ],
       "layout": "IPY_MODEL_4e84c0d50bb840518fa79c1de82a48ce"
      }
     },
     "be3c9b6ee02849c58a4a933def535bfa": {
      "model_module": "@jupyter-widgets/controls",
      "model_module_version": "1.5.0",
      "model_name": "DescriptionStyleModel",
      "state": {
       "description_width": ""
      }
     },
     "bf12e130b4d345f98fae946831bb86c6": {
      "model_module": "@jupyter-widgets/controls",
      "model_module_version": "1.5.0",
      "model_name": "ButtonStyleModel",
      "state": {}
     },
     "bfa893adf3a844f5824e6ac00bb41781": {
      "model_module": "@jupyter-widgets/controls",
      "model_module_version": "1.5.0",
      "model_name": "ButtonModel",
      "state": {
       "description": "Add",
       "layout": "IPY_MODEL_cb5e78bec63842fcb539efc32b884878",
       "style": "IPY_MODEL_58d8d34422fd40e1abcb2f4c6ee12d43"
      }
     },
     "c14ab4a7bcab4987be17a0ee1b120c8b": {
      "model_module": "@jupyter-widgets/base",
      "model_module_version": "1.2.0",
      "model_name": "LayoutModel",
      "state": {}
     },
     "c1fe4141d64a4511aad51373720a1670": {
      "model_module": "@jupyter-widgets/base",
      "model_module_version": "1.2.0",
      "model_name": "LayoutModel",
      "state": {}
     },
     "c636f145e68c45448278e993e5554f74": {
      "model_module": "@jupyter-widgets/controls",
      "model_module_version": "1.5.0",
      "model_name": "HBoxModel",
      "state": {
       "children": [
        "IPY_MODEL_d8a7d7fb55e840359c696b031a95c707",
        "IPY_MODEL_50d18ec966084b718061f81230741808"
       ],
       "layout": "IPY_MODEL_115d2dd26b474e6c86d6b554d1f6ad5e"
      }
     },
     "c6cd4b834b0e4b948a66d828e0286d3a": {
      "model_module": "@jupyter-widgets/base",
      "model_module_version": "1.2.0",
      "model_name": "LayoutModel",
      "state": {}
     },
     "c7fc81a14bee405f824afe92dc2b8543": {
      "model_module": "@jupyter-widgets/controls",
      "model_module_version": "1.5.0",
      "model_name": "DescriptionStyleModel",
      "state": {
       "description_width": ""
      }
     },
     "c90042e4d3e940aca42166376d970ab3": {
      "model_module": "@jupyter-widgets/controls",
      "model_module_version": "1.5.0",
      "model_name": "DescriptionStyleModel",
      "state": {
       "description_width": ""
      }
     },
     "cb5e78bec63842fcb539efc32b884878": {
      "model_module": "@jupyter-widgets/base",
      "model_module_version": "1.2.0",
      "model_name": "LayoutModel",
      "state": {}
     },
     "ccc335ee663c4882aa4aaa9d76f793a6": {
      "model_module": "@jupyter-widgets/controls",
      "model_module_version": "1.5.0",
      "model_name": "DescriptionStyleModel",
      "state": {
       "description_width": ""
      }
     },
     "cd55891274d64fe19f7eb68ff63c3eea": {
      "model_module": "@jupyter-widgets/controls",
      "model_module_version": "1.5.0",
      "model_name": "ButtonModel",
      "state": {
       "description": "Delete",
       "layout": "IPY_MODEL_ee9876da14214519907c293c9bcd45a4",
       "style": "IPY_MODEL_40e48636bbdb4423865d3865bc994afd"
      }
     },
     "cdcaf3d917474e8aace921421d93803e": {
      "model_module": "@jupyter-widgets/controls",
      "model_module_version": "1.5.0",
      "model_name": "HBoxModel",
      "state": {
       "children": [
        "IPY_MODEL_d235b40f752f430e8fa9f915d7fe61c2",
        "IPY_MODEL_e8c5872bba4f484e83eb807cc4578c18"
       ],
       "layout": "IPY_MODEL_4c80547736c243ceb0913d4761c7c0b0"
      }
     },
     "ce825073b2004c379a91e1938ee84453": {
      "model_module": "@jupyter-widgets/controls",
      "model_module_version": "1.5.0",
      "model_name": "HBoxModel",
      "state": {
       "children": [
        "IPY_MODEL_dd259d9aa519412c99ea5a60440be0f1",
        "IPY_MODEL_122dae7a54a74752ac431bf5cd96cd9b"
       ],
       "layout": "IPY_MODEL_9160794689e94cdf8defd26858da795a"
      }
     },
     "cec21246aade44d5bf891fecd052a2b2": {
      "model_module": "@jupyter-widgets/controls",
      "model_module_version": "1.5.0",
      "model_name": "HBoxModel",
      "state": {
       "layout": "IPY_MODEL_d8ae5f59cb3d44d9a3be61a4b38f2459"
      }
     },
     "cee6590cad574350b1f2d7b169f939c6": {
      "model_module": "@jupyter-widgets/controls",
      "model_module_version": "1.5.0",
      "model_name": "DescriptionStyleModel",
      "state": {
       "description_width": ""
      }
     },
     "cf413d52254b4f62b9fadd56a07f87c2": {
      "model_module": "@jupyter-widgets/controls",
      "model_module_version": "1.5.0",
      "model_name": "DropdownModel",
      "state": {
       "index": null,
       "layout": "IPY_MODEL_44b2d7cfebb2414383705692c5eeb729",
       "style": "IPY_MODEL_1c0e6084b3594d0b89eba7ee81bc5371"
      }
     },
     "cf87bbf8442f4c85b9fe3392e97ddb10": {
      "model_module": "@jupyter-widgets/base",
      "model_module_version": "1.2.0",
      "model_name": "LayoutModel",
      "state": {}
     },
     "d11cae22e30a4431b79b60dc4dfe95ee": {
      "model_module": "@jupyter-widgets/controls",
      "model_module_version": "1.5.0",
      "model_name": "DropdownModel",
      "state": {
       "_options_labels": [
        "Color"
       ],
       "index": 0,
       "layout": "IPY_MODEL_5ee85fbd478a45e3ac66c541ed21b269",
       "style": "IPY_MODEL_b1a441bc7cf0405b838539e1937a3364"
      }
     },
     "d1a1c723f6044bab9e0acb7e9541aa15": {
      "model_module": "@jupyter-widgets/base",
      "model_module_version": "1.2.0",
      "model_name": "LayoutModel",
      "state": {}
     },
     "d235b40f752f430e8fa9f915d7fe61c2": {
      "model_module": "@jupyter-widgets/controls",
      "model_module_version": "1.5.0",
      "model_name": "ButtonModel",
      "state": {
       "description": "Add",
       "layout": "IPY_MODEL_3851e907967c4c138951746e6cea46f5",
       "style": "IPY_MODEL_bf12e130b4d345f98fae946831bb86c6"
      }
     },
     "d26f777f5f654a079ae2609a8eeaa839": {
      "model_module": "@jupyter-widgets/base",
      "model_module_version": "1.2.0",
      "model_name": "LayoutModel",
      "state": {}
     },
     "d2edaa9925d34a308756c4cf4c68eba2": {
      "model_module": "@jupyter-widgets/base",
      "model_module_version": "1.2.0",
      "model_name": "LayoutModel",
      "state": {}
     },
     "d35ce80d39a34ec4851cfaad965f9db3": {
      "model_module": "@jupyter-widgets/base",
      "model_module_version": "1.2.0",
      "model_name": "LayoutModel",
      "state": {}
     },
     "d38267828f564922b40ff90771ede547": {
      "model_module": "@jupyter-widgets/controls",
      "model_module_version": "1.5.0",
      "model_name": "HBoxModel",
      "state": {
       "children": [
        "IPY_MODEL_72e7c8b3584946919079a521e16ca354",
        "IPY_MODEL_79ca96862f184dbe992eb9e148b82c9c"
       ],
       "layout": "IPY_MODEL_42aaf4bb6a484b4fb398df56171fadda"
      }
     },
     "d3aef337f3c840b2a053e7d134da169f": {
      "model_module": "@jupyter-widgets/controls",
      "model_module_version": "1.5.0",
      "model_name": "DropdownModel",
      "state": {
       "index": null,
       "layout": "IPY_MODEL_d26f777f5f654a079ae2609a8eeaa839",
       "style": "IPY_MODEL_2e47699c407f486297ce231b63da5f25"
      }
     },
     "d4e0445cb4ad463eac503d04aece84e1": {
      "model_module": "@jupyter-widgets/base",
      "model_module_version": "1.2.0",
      "model_name": "LayoutModel",
      "state": {}
     },
     "d4e79fe8320d4d9eba21a105f04f57a0": {
      "model_module": "@jupyter-widgets/controls",
      "model_module_version": "1.5.0",
      "model_name": "DescriptionStyleModel",
      "state": {
       "description_width": ""
      }
     },
     "d6245c7244594773b9437f099bc01b0e": {
      "model_module": "@jupyter-widgets/controls",
      "model_module_version": "1.5.0",
      "model_name": "HBoxModel",
      "state": {
       "children": [
        "IPY_MODEL_de09d203da08470b97b408ec136ba789",
        "IPY_MODEL_68cd22069b874b92b71a18b6ce95ecd6"
       ],
       "layout": "IPY_MODEL_59ef47f55717408b9f85280f5a5085ad"
      }
     },
     "d703fce4fd7c41c6ac2ca5119b46537c": {
      "model_module": "@jupyter-widgets/base",
      "model_module_version": "1.2.0",
      "model_name": "LayoutModel",
      "state": {}
     },
     "d877c52f88354aae90b2347fa66cc48e": {
      "model_module": "@jupyter-widgets/controls",
      "model_module_version": "1.5.0",
      "model_name": "ButtonModel",
      "state": {
       "description": "Delete",
       "layout": "IPY_MODEL_564923be897245deacd166353da6ba85",
       "style": "IPY_MODEL_2303525874ed41faa7ab84ed4c7d1d9d"
      }
     },
     "d8a7d7fb55e840359c696b031a95c707": {
      "model_module": "@jupyter-widgets/controls",
      "model_module_version": "1.5.0",
      "model_name": "ButtonModel",
      "state": {
       "description": "Add",
       "layout": "IPY_MODEL_de6fd75c37fa4e39a7b5ce92500ebd2b",
       "style": "IPY_MODEL_5596f568d95b413c878bee3f80e0dfe3"
      }
     },
     "d8ae5f59cb3d44d9a3be61a4b38f2459": {
      "model_module": "@jupyter-widgets/base",
      "model_module_version": "1.2.0",
      "model_name": "LayoutModel",
      "state": {
       "flex_flow": "row wrap",
       "margin": "20px"
      }
     },
     "d9bd48ad73b7457d92ab2985406175f5": {
      "model_module": "@jupyter-widgets/controls",
      "model_module_version": "1.5.0",
      "model_name": "ButtonModel",
      "state": {
       "description": "Add",
       "layout": "IPY_MODEL_ac98b590a0254e72afb514c9678fa56a",
       "style": "IPY_MODEL_34bac1ba07eb4bb4a5caad54bc302e21"
      }
     },
     "da3e9192fd9741da91ee6b13c56e9dd3": {
      "model_module": "@jupyter-widgets/controls",
      "model_module_version": "1.5.0",
      "model_name": "HBoxModel",
      "state": {
       "children": [
        "IPY_MODEL_7482d983e32c42e69db49862a49a4b71",
        "IPY_MODEL_aad0b958b42044cf85427c4c82061d4c"
       ],
       "layout": "IPY_MODEL_00dc35dbf89a4234ab600bc2479fb92e"
      }
     },
     "daa7193839f242d7aa30725b83fea63f": {
      "model_module": "@jupyter-widgets/base",
      "model_module_version": "1.2.0",
      "model_name": "LayoutModel",
      "state": {}
     },
     "daa8b85fc69e452680e42a32204bcce4": {
      "model_module": "@jupyter-widgets/controls",
      "model_module_version": "1.5.0",
      "model_name": "ButtonStyleModel",
      "state": {}
     },
     "db5bceefbd694513800418f4cc81f2ae": {
      "model_module": "@jupyter-widgets/controls",
      "model_module_version": "1.5.0",
      "model_name": "DescriptionStyleModel",
      "state": {
       "description_width": ""
      }
     },
     "dc283ef0b01f41d980c04da8013b54c9": {
      "model_module": "@jupyter-widgets/base",
      "model_module_version": "1.2.0",
      "model_name": "LayoutModel",
      "state": {}
     },
     "dc34a6ef0f95412aaf24db7bc0870778": {
      "model_module": "@jupyter-widgets/controls",
      "model_module_version": "1.5.0",
      "model_name": "VBoxModel",
      "state": {
       "children": [
        "IPY_MODEL_ab9fa99eac354afbba91c017be037288",
        "IPY_MODEL_1490020d09404d8aa0ca03c6a99f2b3e"
       ],
       "layout": "IPY_MODEL_9408547a75a843c2b99c55d49c411d6c"
      }
     },
     "dc8cd868254a46dfbc2c4980b6bcdef4": {
      "model_module": "@jupyter-widgets/base",
      "model_module_version": "1.2.0",
      "model_name": "LayoutModel",
      "state": {}
     },
     "dd259d9aa519412c99ea5a60440be0f1": {
      "model_module": "@jupyter-widgets/controls",
      "model_module_version": "1.5.0",
      "model_name": "HBoxModel",
      "state": {
       "children": [
        "IPY_MODEL_d9bd48ad73b7457d92ab2985406175f5",
        "IPY_MODEL_6e1c0f2101dc4f4b9101d06d2a07a003"
       ],
       "layout": "IPY_MODEL_1b33e3ade8944e3189ba571e90aa0877"
      }
     },
     "dd789f05f3e24330b02a0eeda19ba72d": {
      "model_module": "@jupyter-widgets/base",
      "model_module_version": "1.2.0",
      "model_name": "LayoutModel",
      "state": {}
     },
     "dd8c9f5d378f4d39a5a8f88baa4b9037": {
      "model_module": "@jupyter-widgets/controls",
      "model_module_version": "1.5.0",
      "model_name": "DescriptionStyleModel",
      "state": {
       "description_width": ""
      }
     },
     "de09d203da08470b97b408ec136ba789": {
      "model_module": "@jupyter-widgets/controls",
      "model_module_version": "1.5.0",
      "model_name": "ButtonModel",
      "state": {
       "description": "Add",
       "layout": "IPY_MODEL_d35ce80d39a34ec4851cfaad965f9db3",
       "style": "IPY_MODEL_b0267327fde34dbc807ba458d40398b1"
      }
     },
     "de212178dfa1483fa425414ab4112bf2": {
      "model_module": "@jupyter-widgets/base",
      "model_module_version": "1.2.0",
      "model_name": "LayoutModel",
      "state": {}
     },
     "de6fd75c37fa4e39a7b5ce92500ebd2b": {
      "model_module": "@jupyter-widgets/base",
      "model_module_version": "1.2.0",
      "model_name": "LayoutModel",
      "state": {}
     },
     "e1a038d137574bd0b83d831f20b8e028": {
      "model_module": "@jupyter-widgets/base",
      "model_module_version": "1.2.0",
      "model_name": "LayoutModel",
      "state": {}
     },
     "e2e90fea248242c49ced163c267d06f6": {
      "model_module": "@jupyter-widgets/base",
      "model_module_version": "1.2.0",
      "model_name": "LayoutModel",
      "state": {
       "flex_flow": "row wrap",
       "margin": "20px"
      }
     },
     "e587a18592224d1eb3d81b435e5da632": {
      "model_module": "@jupyter-widgets/base",
      "model_module_version": "1.2.0",
      "model_name": "LayoutModel",
      "state": {}
     },
     "e5dc7f55fc2c4697a34df8f068829bc7": {
      "model_module": "@jupyter-widgets/controls",
      "model_module_version": "1.5.0",
      "model_name": "HBoxModel",
      "state": {
       "children": [
        "IPY_MODEL_27dd7871ff944dd6a3da5c2a38575f8a",
        "IPY_MODEL_0c0f203e35354a5b936f37118ef53c3b"
       ],
       "layout": "IPY_MODEL_0be086c3a72c44f88d67a0d02c526ee7"
      }
     },
     "e624bcdf2ed240b3bc306472801a29b4": {
      "model_module": "@jupyter-widgets/base",
      "model_module_version": "1.2.0",
      "model_name": "LayoutModel",
      "state": {}
     },
     "e679800a6aeb488ab8530bb5c71bc277": {
      "model_module": "@jupyter-widgets/controls",
      "model_module_version": "1.5.0",
      "model_name": "DescriptionStyleModel",
      "state": {
       "description_width": ""
      }
     },
     "e8c5872bba4f484e83eb807cc4578c18": {
      "model_module": "@jupyter-widgets/controls",
      "model_module_version": "1.5.0",
      "model_name": "DropdownModel",
      "state": {
       "_options_labels": [
        "Integer",
        "Float",
        "Bool"
       ],
       "index": 0,
       "layout": "IPY_MODEL_c1fe4141d64a4511aad51373720a1670",
       "style": "IPY_MODEL_5ab7886568dc4fac82bbc86aa7370d72"
      }
     },
     "e8ee4b61e635433c9e0f1137d82ce1fa": {
      "model_module": "@jupyter-widgets/controls",
      "model_module_version": "1.5.0",
      "model_name": "HBoxModel",
      "state": {
       "children": [
        "IPY_MODEL_ae683aaa674d43b68913a6368ec1cc1f",
        "IPY_MODEL_5200bffd47044d4297b09fd9b7b6bdf8"
       ],
       "layout": "IPY_MODEL_465f27ab2af5490e98753443255fb70d"
      }
     },
     "ea06fc6d358641dc81188897bbc4acdc": {
      "model_module": "@jupyter-widgets/base",
      "model_module_version": "1.2.0",
      "model_name": "LayoutModel",
      "state": {}
     },
     "ea566694e5334efe806238be6cb3c332": {
      "model_module": "@jupyter-widgets/base",
      "model_module_version": "1.2.0",
      "model_name": "LayoutModel",
      "state": {}
     },
     "eaad4e1f8ef34ec8a8fe16f1392d2b0f": {
      "model_module": "@jupyter-widgets/controls",
      "model_module_version": "1.5.0",
      "model_name": "ButtonStyleModel",
      "state": {}
     },
     "ebfcc03d0b5345b3a6f5185b15b23618": {
      "model_module": "@jupyter-widgets/base",
      "model_module_version": "1.2.0",
      "model_name": "LayoutModel",
      "state": {}
     },
     "ed235838e3704305ae69b4a8f0444ac6": {
      "model_module": "@jupyter-widgets/controls",
      "model_module_version": "1.5.0",
      "model_name": "VBoxModel",
      "state": {
       "children": [
        "IPY_MODEL_056abdb368e84630a2298d388c56d963",
        "IPY_MODEL_85a55a9faf594d8db140e45935844b4e"
       ],
       "layout": "IPY_MODEL_16608b212388429a85289830ddd5a01e"
      }
     },
     "ed836bbf860c4ef381476e6d78736840": {
      "model_module": "@jupyter-widgets/controls",
      "model_module_version": "1.5.0",
      "model_name": "TabModel",
      "state": {
       "_titles": {
        "0": "particles.json"
       },
       "children": [
        "IPY_MODEL_28cb39190da14f9f91b97cd388c272fd"
       ],
       "layout": "IPY_MODEL_9ddec695f49e4c4bbab555d6b6d7da7c"
      }
     },
     "ee2c5818a5164463b337d965195d2001": {
      "model_module": "@jupyter-widgets/controls",
      "model_module_version": "1.5.0",
      "model_name": "HBoxModel",
      "state": {
       "children": [
        "IPY_MODEL_29b95d4dce3f44a9bf6d8487620b4938",
        "IPY_MODEL_1db7b6e9930646c7af34af5e9832c6cc"
       ],
       "layout": "IPY_MODEL_9160794689e94cdf8defd26858da795a"
      }
     },
     "ee9876da14214519907c293c9bcd45a4": {
      "model_module": "@jupyter-widgets/base",
      "model_module_version": "1.2.0",
      "model_name": "LayoutModel",
      "state": {}
     },
     "ef64531d5ade4ced9add303ad6a0b247": {
      "model_module": "@jupyter-widgets/controls",
      "model_module_version": "1.5.0",
      "model_name": "HBoxModel",
      "state": {
       "children": [
        "IPY_MODEL_902eb24d085543efb4769140ce1b7805",
        "IPY_MODEL_f541a5d1fa85437b84f09dda1b140fb0"
       ],
       "layout": "IPY_MODEL_d1a1c723f6044bab9e0acb7e9541aa15"
      }
     },
     "f03266f5519d4b0e8971805183bbb770": {
      "model_module": "@jupyter-widgets/base",
      "model_module_version": "1.2.0",
      "model_name": "LayoutModel",
      "state": {}
     },
     "f0a57272419b47609843aaa6f9421519": {
      "model_module": "@jupyter-widgets/controls",
      "model_module_version": "1.5.0",
      "model_name": "HBoxModel",
      "state": {
       "children": [
        "IPY_MODEL_da3e9192fd9741da91ee6b13c56e9dd3",
        "IPY_MODEL_e5dc7f55fc2c4697a34df8f068829bc7"
       ],
       "layout": "IPY_MODEL_57b500aa3c53489eae8055600ea28826"
      }
     },
     "f0fd72d6cedd48ab8c5b482893732455": {
      "model_module": "@jupyter-widgets/base",
      "model_module_version": "1.2.0",
      "model_name": "LayoutModel",
      "state": {}
     },
     "f10b5e6f834346ae9066e6ca9781ac47": {
      "model_module": "@jupyter-widgets/base",
      "model_module_version": "1.2.0",
      "model_name": "LayoutModel",
      "state": {}
     },
     "f334188710cd42538270416c9ca4859c": {
      "model_module": "@jupyter-widgets/controls",
      "model_module_version": "1.5.0",
      "model_name": "ButtonModel",
      "state": {
       "description": "Add",
       "layout": "IPY_MODEL_868d4480e2ba4f9d9b6d588f58d1a869",
       "style": "IPY_MODEL_b7da7423f1844d62a25f7b067392fd46"
      }
     },
     "f3b4ab9d32c64d83858950baaa2d029d": {
      "model_module": "@jupyter-widgets/controls",
      "model_module_version": "1.5.0",
      "model_name": "HBoxModel",
      "state": {
       "layout": "IPY_MODEL_8af1cb40710e416c8eaa3d15f959c047"
      }
     },
     "f4988ea8824b4c6a97cf50188c4facd5": {
      "model_module": "@jupyter-widgets/controls",
      "model_module_version": "1.5.0",
      "model_name": "ButtonStyleModel",
      "state": {}
     },
     "f541a5d1fa85437b84f09dda1b140fb0": {
      "model_module": "@jupyter-widgets/controls",
      "model_module_version": "1.5.0",
      "model_name": "DropdownModel",
      "state": {
       "_options_labels": [
        "NurbsCurve2D"
       ],
       "index": 0,
       "layout": "IPY_MODEL_8e8984327ab54b4e8f44c2117ed18343",
       "style": "IPY_MODEL_3343077adcf541b1a770aab0704add33"
      }
     },
     "f67d0d8b99374f06a45c9dc5ab437a89": {
      "model_module": "@jupyter-widgets/base",
      "model_module_version": "1.2.0",
      "model_name": "LayoutModel",
      "state": {}
     },
     "f8949ee28df54d519d96d0d4628daa9e": {
      "model_module": "@jupyter-widgets/base",
      "model_module_version": "1.2.0",
      "model_name": "LayoutModel",
      "state": {}
     },
     "f8f7b3f952174ff5b41d467e683d30d1": {
      "model_module": "@jupyter-widgets/controls",
      "model_module_version": "1.5.0",
      "model_name": "TabModel",
      "state": {
       "layout": "IPY_MODEL_73b01a04e3cc47b19c0d513adf947555"
      }
     },
     "f9f5e527103b403ea1c984338a2c5769": {
      "model_module": "@jupyter-widgets/controls",
      "model_module_version": "1.5.0",
      "model_name": "DropdownModel",
      "state": {
       "index": null,
       "layout": "IPY_MODEL_1ca03272e6e846a994962248811a5a63",
       "style": "IPY_MODEL_be3c9b6ee02849c58a4a933def535bfa"
      }
     },
     "fa25d41827ae43da8b2c0578b2f0c1a2": {
      "model_module": "@jupyter-widgets/controls",
      "model_module_version": "1.5.0",
      "model_name": "ButtonStyleModel",
      "state": {}
     },
     "fecb9caa14454277a1f046e580879d8c": {
      "model_module": "@jupyter-widgets/controls",
      "model_module_version": "1.5.0",
      "model_name": "ButtonStyleModel",
      "state": {}
     },
     "ffa93267c7ff479a9dfc774cfc3199a1": {
      "model_module": "@jupyter-widgets/controls",
      "model_module_version": "1.5.0",
      "model_name": "HBoxModel",
      "state": {
       "children": [
        "IPY_MODEL_8e8c57be82f74d04a3cb028ed42b0d98",
        "IPY_MODEL_821a913888064c0890be81ce3db65c39"
       ],
       "layout": "IPY_MODEL_6b3d526ccd7448c3bf586ad79487c415"
      }
     }
    },
    "version_major": 2,
    "version_minor": 0
   }
  }
 },
 "nbformat": 4,
 "nbformat_minor": 4
}
