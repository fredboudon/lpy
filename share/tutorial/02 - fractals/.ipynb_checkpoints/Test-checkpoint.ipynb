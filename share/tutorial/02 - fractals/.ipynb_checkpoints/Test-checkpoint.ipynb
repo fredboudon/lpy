{
 "cells": [
  {
   "cell_type": "code",
   "execution_count": 1,
   "metadata": {},
   "outputs": [],
   "source": [
    "from pgljupyter import *\n",
    "from ipywidgets import Dropdown, Output\n",
    "import os"
   ]
  },
  {
   "cell_type": "code",
   "execution_count": 2,
   "metadata": {},
   "outputs": [
    {
     "data": {
      "application/vnd.jupyter.widget-view+json": {
       "model_id": "920ff5cf2167402abe1208cff6cb33e7",
       "version_major": 2,
       "version_minor": 0
      },
      "text/plain": [
       "Dropdown(options=('sierpinski.lpy', 'ifs.lpy', 'hilbert3d.lpy', 'peanocurve.lpy', 'hilbert-curve.lpy', 'dragon…"
      ]
     },
     "metadata": {},
     "output_type": "display_data"
    }
   ],
   "source": [
    "from os import listdir\n",
    "from os.path import isfile, join\n",
    "def on_change(change):\n",
    "    with out:\n",
    "        out.clear_output()\n",
    "        file = change['new']\n",
    "        display(LsystemWidget(file))\n",
    "out = Output()\n",
    "dd = Dropdown(options=[f for f in listdir(os.getcwd()) if isfile(join(os.getcwd(), f)) and f.endswith('.lpy')])\n",
    "dd.observe(on_change, names='value')\n",
    "with out:\n",
    "    display(LsystemWidget(dd.options[0]))\n",
    "dd"
   ]
  },
  {
   "cell_type": "code",
   "execution_count": 3,
   "metadata": {},
   "outputs": [
    {
     "data": {
      "application/vnd.jupyter.widget-view+json": {
       "model_id": "7090815bf7d74a36ac87a5310793e23a",
       "version_major": 2,
       "version_minor": 0
      },
      "text/plain": [
       "Output(outputs=({'output_type': 'display_data', 'data': {'text/plain': \"LsystemWidget(derivationLength=6, scen…"
      ]
     },
     "metadata": {},
     "output_type": "display_data"
    }
   ],
   "source": [
    "out"
   ]
  },
  {
   "cell_type": "code",
   "execution_count": 4,
   "metadata": {},
   "outputs": [
    {
     "data": {
      "application/vnd.jupyter.widget-view+json": {
       "model_id": "4458d006acd24a76a52ce5c059c2f592",
       "version_major": 2,
       "version_minor": 0
      },
      "text/plain": [
       "LsystemWidget(derivationLength=4, is_magic=True, scene={'data': b'x\\xdaSLrw\\xf5\\xf7e`Pp\\xe0\\xe5RPVVda```be\\x08…"
      ]
     },
     "metadata": {},
     "output_type": "display_data"
    }
   ],
   "source": [
    "%%lpy -w 10\n",
    "\n",
    "Axiom:  -(90)F(1) \n",
    "context().turtle.setAngleIncrement(90)\n",
    "dl = 0.0\n",
    "dt = 0.0\n",
    "derivation length: 3\n",
    "production:\n",
    "\n",
    "F(x) --> F(x*(1-dl)+dt) +(45) F(2*dl)+(45) F(x) - F(x -2*dt) - F(x) -(45) F(2*dl) -(45) ,(2+getIterationNb()) F(x-2*dl -2*dt),(1) +(45)F(2*dl)+(45) F(x)  + F(x -2 *dt) + F(x) -(45) F(2*dl) -(45) F(x+dt)\n"
   ]
  },
  {
   "cell_type": "code",
   "execution_count": 5,
   "metadata": {},
   "outputs": [
    {
     "data": {
      "application/vnd.jupyter.widget-view+json": {
       "model_id": "3930bf46ac0e422ca2c5c5d9b7fa26c0",
       "version_major": 2,
       "version_minor": 0
      },
      "text/plain": [
       "LsystemWidget(derivationLength=4, progress=1.0, scene={'data': b'x\\xdaSLrw\\xf5\\xf7e`Pp\\xe0\\xe5RPVVda```be\\x08\\…"
      ]
     },
     "metadata": {},
     "output_type": "display_data"
    }
   ],
   "source": [
    "l = LsystemWidget('peanocurve.lpy')\n",
    "l"
   ]
  },
  {
   "cell_type": "code",
   "execution_count": null,
   "metadata": {},
   "outputs": [],
   "source": [
    " "
   ]
  }
 ],
 "metadata": {
  "kernelspec": {
   "display_name": "Python 3",
   "language": "python",
   "name": "python3"
  },
  "language_info": {
   "codemirror_mode": {
    "name": "ipython",
    "version": 3
   },
   "file_extension": ".py",
   "mimetype": "text/x-python",
   "name": "python",
   "nbconvert_exporter": "python",
   "pygments_lexer": "ipython3",
   "version": "3.8.6"
  },
  "widgets": {
   "application/vnd.jupyter.widget-state+json": {
    "state": {
     "01317eaf86c449f8aa4a5d8144851760": {
      "model_module": "@jupyter-widgets/controls",
      "model_module_version": "1.5.0",
      "model_name": "DescriptionStyleModel",
      "state": {
       "description_width": ""
      }
     },
     "01b5062f64394684818f95457ca86ece": {
      "model_module": "@jupyter-widgets/controls",
      "model_module_version": "1.5.0",
      "model_name": "DescriptionStyleModel",
      "state": {
       "description_width": ""
      }
     },
     "037ff34e50b14a2a905024586efe2f22": {
      "model_module": "@jupyter-widgets/controls",
      "model_module_version": "1.5.0",
      "model_name": "DescriptionStyleModel",
      "state": {
       "description_width": ""
      }
     },
     "03bd70f5991a48feb53ad82bbaf42c5e": {
      "model_module": "@jupyter-widgets/controls",
      "model_module_version": "1.5.0",
      "model_name": "DescriptionStyleModel",
      "state": {
       "description_width": ""
      }
     },
     "04db6f1080e14339bae8d4dc71233000": {
      "model_module": "@jupyter-widgets/controls",
      "model_module_version": "1.5.0",
      "model_name": "HBoxModel",
      "state": {
       "children": [
        "IPY_MODEL_795bdb12447047a0a6cd73787ebae3a8",
        "IPY_MODEL_56524f28057e4e4fba2d8dc1bc81b61c"
       ],
       "layout": "IPY_MODEL_e3826c98ff254057a39fe1374798b3db"
      }
     },
     "0634809c51f5455a8fe72032417b87b7": {
      "model_module": "@jupyter-widgets/controls",
      "model_module_version": "1.5.0",
      "model_name": "FloatSliderModel",
      "state": {
       "continuous_update": false,
       "description": "shininess",
       "layout": "IPY_MODEL_9ef706b7936f4a6681b22881587588a7",
       "max": 1,
       "step": 0.1,
       "style": "IPY_MODEL_2f3a45f2c74f45bfa81452f8fd291980",
       "value": 0.2
      }
     },
     "0843aa78b33c491ea2ee5fd0d805eeea": {
      "model_module": "@jupyter-widgets/controls",
      "model_module_version": "1.5.0",
      "model_name": "FloatSliderModel",
      "state": {
       "continuous_update": false,
       "description": "transparency",
       "layout": "IPY_MODEL_c8a6660a1c264fe4b394cc11160c3035",
       "max": 1,
       "step": 0.1,
       "style": "IPY_MODEL_7995f50cff9b49409b5a7c44b9c8126c"
      }
     },
     "0aa216cbb40a4b7089d968ba70df860b": {
      "model_module": "@jupyter-widgets/base",
      "model_module_version": "1.2.0",
      "model_name": "LayoutModel",
      "state": {}
     },
     "0ae7460818a04cc4bde167fe2d5ac1a3": {
      "model_module": "@jupyter-widgets/base",
      "model_module_version": "1.2.0",
      "model_name": "LayoutModel",
      "state": {}
     },
     "0c24375a214944c9a81b23f4769aa14a": {
      "model_module": "@jupyter-widgets/controls",
      "model_module_version": "1.5.0",
      "model_name": "ColorPickerModel",
      "state": {
       "description": "emission",
       "disabled": false,
       "layout": "IPY_MODEL_7976a90d66d349bfa52a4840e2a7b67c",
       "style": "IPY_MODEL_67f3c871adca47ae9c94681b2ea71c58",
       "value": "#000000"
      }
     },
     "0c38f1fedd7d41d6b05b78f3df8a5a55": {
      "model_module": "@jupyter-widgets/controls",
      "model_module_version": "1.5.0",
      "model_name": "HBoxModel",
      "state": {
       "layout": "IPY_MODEL_c637d87a670d4f829c05a9ea960ddc6f"
      }
     },
     "0dff41cb32154bcca092ca18a5d0fd39": {
      "model_module": "@jupyter-widgets/controls",
      "model_module_version": "1.5.0",
      "model_name": "ColorPickerModel",
      "state": {
       "description": "specular",
       "disabled": false,
       "layout": "IPY_MODEL_43344ae1060b4121b62225f4a523f34a",
       "style": "IPY_MODEL_c3c7fe71693540d0a9f7bccee384c48c",
       "value": "#000000"
      }
     },
     "12501553a8fd472e880989e22465baa4": {
      "model_module": "@jupyter-widgets/controls",
      "model_module_version": "1.5.0",
      "model_name": "HBoxModel",
      "state": {
       "children": [
        "IPY_MODEL_6bfc567fb2ec4e3ca9f8f93ba15f36ae",
        "IPY_MODEL_4bba212873d74fe5804dddc7300454b3"
       ],
       "layout": "IPY_MODEL_6f08eb87d85b46c6901bd6a846e2ccd6"
      }
     },
     "177440386c694eafba9b48ea5fb8cd17": {
      "model_module": "@jupyter-widgets/controls",
      "model_module_version": "1.5.0",
      "model_name": "TabModel",
      "state": {
       "layout": "IPY_MODEL_0aa216cbb40a4b7089d968ba70df860b"
      }
     },
     "1e2b32a0f3f94e8ea21497ba3fd547a2": {
      "model_module": "@jupyter-widgets/controls",
      "model_module_version": "1.5.0",
      "model_name": "ButtonStyleModel",
      "state": {}
     },
     "2061f327e6d045a495246df025a5a7e9": {
      "model_module": "@jupyter-widgets/controls",
      "model_module_version": "1.5.0",
      "model_name": "BoundedIntTextModel",
      "state": {
       "description": "index",
       "layout": "IPY_MODEL_3d451c80ecee4f8089a85528e56ced2e",
       "style": "IPY_MODEL_a5906eaf3d82454ebe30ad88009eab20",
       "value": 1
      }
     },
     "222c8f0c0c2a43e7a80620651f0060ca": {
      "model_module": "@jupyter-widgets/controls",
      "model_module_version": "1.5.0",
      "model_name": "AccordionModel",
      "state": {
       "_titles": {
        "0": "materials"
       },
       "children": [
        "IPY_MODEL_870cd5e52c0744b4840f6b0b5724ac49"
       ],
       "layout": "IPY_MODEL_57191b6268174ea692d4daf759021694"
      }
     },
     "235640438125430b853350fb59d7f2c0": {
      "model_module": "@jupyter-widgets/base",
      "model_module_version": "1.2.0",
      "model_name": "LayoutModel",
      "state": {}
     },
     "261d3e8fd6ad403cbc95171ee8d7dc71": {
      "model_module": "@jupyter-widgets/base",
      "model_module_version": "1.2.0",
      "model_name": "LayoutModel",
      "state": {}
     },
     "28b79b0b22624448805cb2da3bcef1de": {
      "model_module": "@jupyter-widgets/base",
      "model_module_version": "1.2.0",
      "model_name": "LayoutModel",
      "state": {}
     },
     "2adc1e95f1ed473db4de1e068c7ae475": {
      "model_module": "@jupyter-widgets/controls",
      "model_module_version": "1.5.0",
      "model_name": "ColorPickerModel",
      "state": {
       "description": "emission",
       "disabled": false,
       "layout": "IPY_MODEL_81a27d8186144bb788256145e06a9f3b",
       "style": "IPY_MODEL_aca52be405cb433296b849662b2aae2c",
       "value": "#000000"
      }
     },
     "2e071f0188004a989b6e848e7016cec7": {
      "model_module": "@jupyter-widgets/base",
      "model_module_version": "1.2.0",
      "model_name": "LayoutModel",
      "state": {}
     },
     "2f3a45f2c74f45bfa81452f8fd291980": {
      "model_module": "@jupyter-widgets/controls",
      "model_module_version": "1.5.0",
      "model_name": "SliderStyleModel",
      "state": {
       "description_width": ""
      }
     },
     "301ec1d171d54710843633d4d54184bb": {
      "model_module": "@jupyter-widgets/base",
      "model_module_version": "1.2.0",
      "model_name": "LayoutModel",
      "state": {}
     },
     "39ffd2ea05f940fbb57507f9fc0ae6db": {
      "model_module": "@jupyter-widgets/controls",
      "model_module_version": "1.5.0",
      "model_name": "DescriptionStyleModel",
      "state": {
       "description_width": ""
      }
     },
     "3d451c80ecee4f8089a85528e56ced2e": {
      "model_module": "@jupyter-widgets/base",
      "model_module_version": "1.2.0",
      "model_name": "LayoutModel",
      "state": {}
     },
     "3f2dee0ef8bb41b09999d96b726a5e34": {
      "model_module": "@jupyter-widgets/base",
      "model_module_version": "1.2.0",
      "model_name": "LayoutModel",
      "state": {}
     },
     "43344ae1060b4121b62225f4a523f34a": {
      "model_module": "@jupyter-widgets/base",
      "model_module_version": "1.2.0",
      "model_name": "LayoutModel",
      "state": {}
     },
     "43408fde147847d8bb18c07147839a29": {
      "model_module": "@jupyter-widgets/base",
      "model_module_version": "1.2.0",
      "model_name": "LayoutModel",
      "state": {}
     },
     "45e882ec1b6546ff96c79437f764365c": {
      "model_module": "@jupyter-widgets/base",
      "model_module_version": "1.2.0",
      "model_name": "LayoutModel",
      "state": {}
     },
     "47c1907a56334757beceeaaffc219d97": {
      "model_module": "@jupyter-widgets/controls",
      "model_module_version": "1.5.0",
      "model_name": "ButtonStyleModel",
      "state": {}
     },
     "4bba212873d74fe5804dddc7300454b3": {
      "model_module": "@jupyter-widgets/controls",
      "model_module_version": "1.5.0",
      "model_name": "TextModel",
      "state": {
       "layout": "IPY_MODEL_54c7c8c945d141de80c41d5b96d07c79",
       "placeholder": "category name",
       "style": "IPY_MODEL_d629392e91084f53a9c634db21dbdda0"
      }
     },
     "4e26f2dad8854e84b28a1d2cfb7ed3d3": {
      "model_module": "@jupyter-widgets/controls",
      "model_module_version": "1.5.0",
      "model_name": "ButtonModel",
      "state": {
       "description": "Add",
       "layout": "IPY_MODEL_7b699dbd5eed465e98c443c248e8a57e",
       "style": "IPY_MODEL_1e2b32a0f3f94e8ea21497ba3fd547a2"
      }
     },
     "54c7c8c945d141de80c41d5b96d07c79": {
      "model_module": "@jupyter-widgets/base",
      "model_module_version": "1.2.0",
      "model_name": "LayoutModel",
      "state": {}
     },
     "55ebdba967164464afc6e87cb6dfea17": {
      "model_module": "@jupyter-widgets/controls",
      "model_module_version": "1.5.0",
      "model_name": "TextModel",
      "state": {
       "continuous_update": false,
       "description": "name",
       "layout": "IPY_MODEL_62fd75a86bb5465c88c7a3131880fef7",
       "style": "IPY_MODEL_8f287ffe3fb2403a9cd5703777b5a98c",
       "value": "Color_1"
      }
     },
     "56524f28057e4e4fba2d8dc1bc81b61c": {
      "model_module": "@jupyter-widgets/controls",
      "model_module_version": "1.5.0",
      "model_name": "CheckboxModel",
      "state": {
       "description": "Auto save",
       "disabled": false,
       "layout": "IPY_MODEL_f74c248291304b0b902219bfe052a062",
       "style": "IPY_MODEL_39ffd2ea05f940fbb57507f9fc0ae6db",
       "value": false
      }
     },
     "56ae071e11704b4c87a4297a51e0c68a": {
      "model_module": "@jupyter-widgets/controls",
      "model_module_version": "1.5.0",
      "model_name": "ColorPickerModel",
      "state": {
       "description": "ambient",
       "disabled": false,
       "layout": "IPY_MODEL_43408fde147847d8bb18c07147839a29",
       "style": "IPY_MODEL_da2e8a9fe30547a6895d955c7a619409",
       "value": "#000000"
      }
     },
     "57191b6268174ea692d4daf759021694": {
      "model_module": "@jupyter-widgets/base",
      "model_module_version": "1.2.0",
      "model_name": "LayoutModel",
      "state": {}
     },
     "58811fbf737f447ba7b51ea7a4fa0114": {
      "model_module": "@jupyter-widgets/base",
      "model_module_version": "1.2.0",
      "model_name": "LayoutModel",
      "state": {}
     },
     "5e83c677d6f44dd4b3f8595a2a433983": {
      "model_module": "@jupyter-widgets/base",
      "model_module_version": "1.2.0",
      "model_name": "LayoutModel",
      "state": {
       "margin": "10px 10px"
      }
     },
     "60ba89476da348e0b3e7fcd89496c720": {
      "model_module": "@jupyter-widgets/controls",
      "model_module_version": "1.5.0",
      "model_name": "ButtonStyleModel",
      "state": {}
     },
     "62fd75a86bb5465c88c7a3131880fef7": {
      "model_module": "@jupyter-widgets/base",
      "model_module_version": "1.2.0",
      "model_name": "LayoutModel",
      "state": {}
     },
     "65c9b2b4b43a4e8fa37c3a4a01734ecc": {
      "model_module": "@jupyter-widgets/base",
      "model_module_version": "1.2.0",
      "model_name": "LayoutModel",
      "state": {}
     },
     "67f3c871adca47ae9c94681b2ea71c58": {
      "model_module": "@jupyter-widgets/controls",
      "model_module_version": "1.5.0",
      "model_name": "DescriptionStyleModel",
      "state": {
       "description_width": ""
      }
     },
     "68baa42de55e44dab40bf096e95af429": {
      "model_module": "@jupyter-widgets/controls",
      "model_module_version": "1.5.0",
      "model_name": "SliderStyleModel",
      "state": {
       "description_width": ""
      }
     },
     "6bfc567fb2ec4e3ca9f8f93ba15f36ae": {
      "model_module": "@jupyter-widgets/controls",
      "model_module_version": "1.5.0",
      "model_name": "ButtonModel",
      "state": {
       "description": "Add category",
       "layout": "IPY_MODEL_fb671a5e62d74caca50dcfef62ffc890",
       "style": "IPY_MODEL_47c1907a56334757beceeaaffc219d97"
      }
     },
     "6c8567cbb6ee43b0a45bd19486c96e00": {
      "model_module": "@jupyter-widgets/controls",
      "model_module_version": "1.5.0",
      "model_name": "HBoxModel",
      "state": {
       "children": [
        "IPY_MODEL_e441d01157fc40a69a657c9bc79e3b75",
        "IPY_MODEL_897e763387c244f69a6fb6b4f7a9f4fe"
       ],
       "layout": "IPY_MODEL_235640438125430b853350fb59d7f2c0"
      }
     },
     "6cd282b6c98547778b2ae7eb6713742f": {
      "model_module": "@jupyter-widgets/controls",
      "model_module_version": "1.5.0",
      "model_name": "ColorPickerModel",
      "state": {
       "description": "ambient",
       "disabled": false,
       "layout": "IPY_MODEL_d1d40a5e084c45dbb6067d0d8e2477eb",
       "style": "IPY_MODEL_e727ed675d3744a3a90038dc401d51cb",
       "value": "#af0000"
      }
     },
     "6f08eb87d85b46c6901bd6a846e2ccd6": {
      "model_module": "@jupyter-widgets/base",
      "model_module_version": "1.2.0",
      "model_name": "LayoutModel",
      "state": {}
     },
     "7008a13b480441ebb0e5deafc0624335": {
      "model_module": "@jupyter-widgets/controls",
      "model_module_version": "1.5.0",
      "model_name": "DropdownModel",
      "state": {
       "_options_labels": [
        "Color"
       ],
       "index": 0,
       "layout": "IPY_MODEL_fa16951546b54980bff60c2d8ec6913a",
       "style": "IPY_MODEL_01317eaf86c449f8aa4a5d8144851760"
      }
     },
     "707a2445eeb644af9241c7af6f9958c5": {
      "model_module": "@jupyter-widgets/base",
      "model_module_version": "1.2.0",
      "model_name": "LayoutModel",
      "state": {}
     },
     "7090815bf7d74a36ac87a5310793e23a": {
      "model_module": "@jupyter-widgets/output",
      "model_module_version": "1.0.0",
      "model_name": "OutputModel",
      "state": {
       "layout": "IPY_MODEL_65c9b2b4b43a4e8fa37c3a4a01734ecc",
       "outputs": [
        {
         "data": {
          "application/vnd.jupyter.widget-view+json": {
           "model_id": "f695e94eb07146709a45c410fae90b44",
           "version_major": 2,
           "version_minor": 0
          },
          "text/plain": "LsystemWidget(derivationLength=6, scene={'data': b'x\\xdaSLrw\\xf5\\xf7e`Pp\\xe0\\xe5RPVVdf```be\\x08\\xceH,He\\x04\\xb…"
         },
         "metadata": {},
         "output_type": "display_data"
        }
       ]
      }
     },
     "733500d87d254a68b7cb2c345e06deef": {
      "model_module": "@jupyter-widgets/controls",
      "model_module_version": "1.5.0",
      "model_name": "ButtonStyleModel",
      "state": {}
     },
     "795bdb12447047a0a6cd73787ebae3a8": {
      "model_module": "@jupyter-widgets/controls",
      "model_module_version": "1.5.0",
      "model_name": "ButtonModel",
      "state": {
       "description": "Save changes",
       "layout": "IPY_MODEL_45e882ec1b6546ff96c79437f764365c",
       "style": "IPY_MODEL_c309c9e58dd940e0a32c9566a0085a7c"
      }
     },
     "7976a90d66d349bfa52a4840e2a7b67c": {
      "model_module": "@jupyter-widgets/base",
      "model_module_version": "1.2.0",
      "model_name": "LayoutModel",
      "state": {}
     },
     "7995f50cff9b49409b5a7c44b9c8126c": {
      "model_module": "@jupyter-widgets/controls",
      "model_module_version": "1.5.0",
      "model_name": "SliderStyleModel",
      "state": {
       "description_width": ""
      }
     },
     "7a6b310a7f3544d399f118e5b3092120": {
      "model_module": "@jupyter-widgets/controls",
      "model_module_version": "1.5.0",
      "model_name": "HBoxModel",
      "state": {
       "children": [
        "IPY_MODEL_818c75c383974eecbc8c868fe8bca638",
        "IPY_MODEL_90d0211d50c64eb296cbaba49180eec4"
       ],
       "layout": "IPY_MODEL_261d3e8fd6ad403cbc95171ee8d7dc71"
      }
     },
     "7b699dbd5eed465e98c443c248e8a57e": {
      "model_module": "@jupyter-widgets/base",
      "model_module_version": "1.2.0",
      "model_name": "LayoutModel",
      "state": {}
     },
     "7cde7bdaa0c84d9bbf30c3751c892474": {
      "model_module": "@jupyter-widgets/base",
      "model_module_version": "1.2.0",
      "model_name": "LayoutModel",
      "state": {}
     },
     "7d4040ae051c4fc797d85312f381af45": {
      "model_module": "@jupyter-widgets/controls",
      "model_module_version": "1.5.0",
      "model_name": "FloatSliderModel",
      "state": {
       "continuous_update": false,
       "description": "shininess",
       "layout": "IPY_MODEL_d14186030c164c75b6389592cbc3299b",
       "max": 1,
       "step": 0.1,
       "style": "IPY_MODEL_eb1bb55d48a347bc942b50a234b4af74",
       "value": 0.2
      }
     },
     "818c75c383974eecbc8c868fe8bca638": {
      "model_module": "@jupyter-widgets/controls",
      "model_module_version": "1.5.0",
      "model_name": "ButtonModel",
      "state": {
       "description": "Delete",
       "layout": "IPY_MODEL_9cb5a3e5c9824703bff626079dc18545",
       "style": "IPY_MODEL_733500d87d254a68b7cb2c345e06deef"
      }
     },
     "81a1251c35db465ebf3e1fd2b78229cd": {
      "model_module": "@jupyter-widgets/controls",
      "model_module_version": "1.5.0",
      "model_name": "TextModel",
      "state": {
       "continuous_update": false,
       "description": "name",
       "layout": "IPY_MODEL_2e071f0188004a989b6e848e7016cec7",
       "style": "IPY_MODEL_98070beb3a814149824c287adcfbd98e",
       "value": "Color_3"
      }
     },
     "81a27d8186144bb788256145e06a9f3b": {
      "model_module": "@jupyter-widgets/base",
      "model_module_version": "1.2.0",
      "model_name": "LayoutModel",
      "state": {}
     },
     "82aa8005f68f48b78ee9d807a4df5089": {
      "model_module": "@jupyter-widgets/base",
      "model_module_version": "1.2.0",
      "model_name": "LayoutModel",
      "state": {}
     },
     "870cd5e52c0744b4840f6b0b5724ac49": {
      "model_module": "@jupyter-widgets/controls",
      "model_module_version": "1.5.0",
      "model_name": "VBoxModel",
      "state": {
       "children": [
        "IPY_MODEL_f39749a62c284d958bc47f57a61247c1",
        "IPY_MODEL_0c38f1fedd7d41d6b05b78f3df8a5a55"
       ],
       "layout": "IPY_MODEL_0ae7460818a04cc4bde167fe2d5ac1a3"
      }
     },
     "8802a65a9f774ba2a67916c94d8957ac": {
      "model_module": "@jupyter-widgets/base",
      "model_module_version": "1.2.0",
      "model_name": "LayoutModel",
      "state": {}
     },
     "8804b58e533143c0b3a5e64e35e0c445": {
      "model_module": "@jupyter-widgets/controls",
      "model_module_version": "1.5.0",
      "model_name": "FloatSliderModel",
      "state": {
       "continuous_update": false,
       "description": "diffuse",
       "layout": "IPY_MODEL_7cde7bdaa0c84d9bbf30c3751c892474",
       "max": 3,
       "step": 0.1,
       "style": "IPY_MODEL_96987782516141f4a577adb2c6d44343",
       "value": 1.02857
      }
     },
     "888103ef40b948aab42e64d219d4025b": {
      "model_module": "@jupyter-widgets/controls",
      "model_module_version": "1.5.0",
      "model_name": "ColorPickerModel",
      "state": {
       "description": "specular",
       "disabled": false,
       "layout": "IPY_MODEL_8ca87913d98b464597286095d31afa8f",
       "style": "IPY_MODEL_8ec50d2eaed34e32bf5a475a6b944de9",
       "value": "#000000"
      }
     },
     "88c94b7369fa4791aa3f75ac9b17d2b8": {
      "model_module": "@jupyter-widgets/base",
      "model_module_version": "1.2.0",
      "model_name": "LayoutModel",
      "state": {}
     },
     "897e763387c244f69a6fb6b4f7a9f4fe": {
      "model_module": "@jupyter-widgets/controls",
      "model_module_version": "1.5.0",
      "model_name": "CheckboxModel",
      "state": {
       "description": "Auto apply",
       "disabled": false,
       "layout": "IPY_MODEL_28b79b0b22624448805cb2da3bcef1de",
       "style": "IPY_MODEL_03bd70f5991a48feb53ad82bbaf42c5e",
       "value": false
      }
     },
     "8ca87913d98b464597286095d31afa8f": {
      "model_module": "@jupyter-widgets/base",
      "model_module_version": "1.2.0",
      "model_name": "LayoutModel",
      "state": {}
     },
     "8ec50d2eaed34e32bf5a475a6b944de9": {
      "model_module": "@jupyter-widgets/controls",
      "model_module_version": "1.5.0",
      "model_name": "DescriptionStyleModel",
      "state": {
       "description_width": ""
      }
     },
     "8f287ffe3fb2403a9cd5703777b5a98c": {
      "model_module": "@jupyter-widgets/controls",
      "model_module_version": "1.5.0",
      "model_name": "DescriptionStyleModel",
      "state": {
       "description_width": ""
      }
     },
     "90d0211d50c64eb296cbaba49180eec4": {
      "model_module": "@jupyter-widgets/controls",
      "model_module_version": "1.5.0",
      "model_name": "DropdownModel",
      "state": {
       "_options_labels": [
        "Color_1",
        "Color_3"
       ],
       "index": 0,
       "layout": "IPY_MODEL_82aa8005f68f48b78ee9d807a4df5089",
       "style": "IPY_MODEL_cf206beea1e84bab9e5fe1cf08684f2a"
      }
     },
     "91413f3d4c884ed79ba0ac2976896574": {
      "model_module": "@jupyter-widgets/base",
      "model_module_version": "1.2.0",
      "model_name": "LayoutModel",
      "state": {}
     },
     "920ff5cf2167402abe1208cff6cb33e7": {
      "model_module": "@jupyter-widgets/controls",
      "model_module_version": "1.5.0",
      "model_name": "DropdownModel",
      "state": {
       "_options_labels": [
        "sierpinski.lpy",
        "ifs.lpy",
        "hilbert3d.lpy",
        "peanocurve.lpy",
        "hilbert-curve.lpy",
        "dragoncurve.lpy",
        "quadratic-koch-island.lpy",
        "koch-curve.lpy",
        "peanocurve-simple.lpy",
        "barnsleyfern.lpy",
        "cantorset.lpy",
        "gosper.lpy"
       ],
       "index": 0,
       "layout": "IPY_MODEL_d265008ac30440da9445c41db709befc",
       "style": "IPY_MODEL_037ff34e50b14a2a905024586efe2f22"
      }
     },
     "93b855701eb54fb9ab79b129b7d0e8e3": {
      "model_module": "@jupyter-widgets/controls",
      "model_module_version": "1.5.0",
      "model_name": "BoundedIntTextModel",
      "state": {
       "description": "index",
       "layout": "IPY_MODEL_ed3cb4f73ad9422587732d07b0c86865",
       "style": "IPY_MODEL_01b5062f64394684818f95457ca86ece",
       "value": 3
      }
     },
     "96987782516141f4a577adb2c6d44343": {
      "model_module": "@jupyter-widgets/controls",
      "model_module_version": "1.5.0",
      "model_name": "SliderStyleModel",
      "state": {
       "description_width": ""
      }
     },
     "98070beb3a814149824c287adcfbd98e": {
      "model_module": "@jupyter-widgets/controls",
      "model_module_version": "1.5.0",
      "model_name": "DescriptionStyleModel",
      "state": {
       "description_width": ""
      }
     },
     "9cb5a3e5c9824703bff626079dc18545": {
      "model_module": "@jupyter-widgets/base",
      "model_module_version": "1.2.0",
      "model_name": "LayoutModel",
      "state": {}
     },
     "9ef706b7936f4a6681b22881587588a7": {
      "model_module": "@jupyter-widgets/base",
      "model_module_version": "1.2.0",
      "model_name": "LayoutModel",
      "state": {}
     },
     "a5906eaf3d82454ebe30ad88009eab20": {
      "model_module": "@jupyter-widgets/controls",
      "model_module_version": "1.5.0",
      "model_name": "DescriptionStyleModel",
      "state": {
       "description_width": ""
      }
     },
     "a83df38dcb874621933c92b6cdd0ae5e": {
      "model_module": "@jupyter-widgets/controls",
      "model_module_version": "1.5.0",
      "model_name": "FloatSliderModel",
      "state": {
       "continuous_update": false,
       "description": "transparency",
       "layout": "IPY_MODEL_88c94b7369fa4791aa3f75ac9b17d2b8",
       "max": 1,
       "step": 0.1,
       "style": "IPY_MODEL_bbb20559c54745c0a447d050b9eabb1a"
      }
     },
     "aca52be405cb433296b849662b2aae2c": {
      "model_module": "@jupyter-widgets/controls",
      "model_module_version": "1.5.0",
      "model_name": "DescriptionStyleModel",
      "state": {
       "description_width": ""
      }
     },
     "b6203030c39b4fa092bb8c7a7e9a46ed": {
      "model_module": "@jupyter-widgets/controls",
      "model_module_version": "1.5.0",
      "model_name": "VBoxModel",
      "state": {
       "children": [
        "IPY_MODEL_ed1fce086dc546588115b8991c95c8ef",
        "IPY_MODEL_c85414212506423991de9faad99c3e9e"
       ],
       "layout": "IPY_MODEL_fe99ebed1bff422489b6c8472bec32bf"
      }
     },
     "bbb20559c54745c0a447d050b9eabb1a": {
      "model_module": "@jupyter-widgets/controls",
      "model_module_version": "1.5.0",
      "model_name": "SliderStyleModel",
      "state": {
       "description_width": ""
      }
     },
     "bcd49960d4b04e43bf025ba1c1607782": {
      "model_module": "@jupyter-widgets/base",
      "model_module_version": "1.2.0",
      "model_name": "LayoutModel",
      "state": {}
     },
     "c309c9e58dd940e0a32c9566a0085a7c": {
      "model_module": "@jupyter-widgets/controls",
      "model_module_version": "1.5.0",
      "model_name": "ButtonStyleModel",
      "state": {}
     },
     "c3c7fe71693540d0a9f7bccee384c48c": {
      "model_module": "@jupyter-widgets/controls",
      "model_module_version": "1.5.0",
      "model_name": "DescriptionStyleModel",
      "state": {
       "description_width": ""
      }
     },
     "c3e1a5246e544944b2f39871768e40d5": {
      "model_module": "@jupyter-widgets/base",
      "model_module_version": "1.2.0",
      "model_name": "LayoutModel",
      "state": {
       "margin": "10px 10px"
      }
     },
     "c637d87a670d4f829c05a9ea960ddc6f": {
      "model_module": "@jupyter-widgets/base",
      "model_module_version": "1.2.0",
      "model_name": "LayoutModel",
      "state": {
       "flex_flow": "row wrap",
       "margin": "20px"
      }
     },
     "c6d77abe7af84891b51b8ab0872c5952": {
      "model_module": "@jupyter-widgets/base",
      "model_module_version": "1.2.0",
      "model_name": "LayoutModel",
      "state": {
       "flex_flow": "row wrap"
      }
     },
     "c85414212506423991de9faad99c3e9e": {
      "model_module": "@jupyter-widgets/controls",
      "model_module_version": "1.5.0",
      "model_name": "TabModel",
      "state": {
       "_titles": {
        "0": "peanocurve.json"
       },
       "children": [
        "IPY_MODEL_222c8f0c0c2a43e7a80620651f0060ca"
       ],
       "layout": "IPY_MODEL_8802a65a9f774ba2a67916c94d8957ac"
      }
     },
     "c8a6660a1c264fe4b394cc11160c3035": {
      "model_module": "@jupyter-widgets/base",
      "model_module_version": "1.2.0",
      "model_name": "LayoutModel",
      "state": {}
     },
     "cf206beea1e84bab9e5fe1cf08684f2a": {
      "model_module": "@jupyter-widgets/controls",
      "model_module_version": "1.5.0",
      "model_name": "DescriptionStyleModel",
      "state": {
       "description_width": ""
      }
     },
     "d14186030c164c75b6389592cbc3299b": {
      "model_module": "@jupyter-widgets/base",
      "model_module_version": "1.2.0",
      "model_name": "LayoutModel",
      "state": {}
     },
     "d1d40a5e084c45dbb6067d0d8e2477eb": {
      "model_module": "@jupyter-widgets/base",
      "model_module_version": "1.2.0",
      "model_name": "LayoutModel",
      "state": {}
     },
     "d265008ac30440da9445c41db709befc": {
      "model_module": "@jupyter-widgets/base",
      "model_module_version": "1.2.0",
      "model_name": "LayoutModel",
      "state": {}
     },
     "d629392e91084f53a9c634db21dbdda0": {
      "model_module": "@jupyter-widgets/controls",
      "model_module_version": "1.5.0",
      "model_name": "DescriptionStyleModel",
      "state": {
       "description_width": ""
      }
     },
     "da2e8a9fe30547a6895d955c7a619409": {
      "model_module": "@jupyter-widgets/controls",
      "model_module_version": "1.5.0",
      "model_name": "DescriptionStyleModel",
      "state": {
       "description_width": ""
      }
     },
     "e3826c98ff254057a39fe1374798b3db": {
      "model_module": "@jupyter-widgets/base",
      "model_module_version": "1.2.0",
      "model_name": "LayoutModel",
      "state": {}
     },
     "e441d01157fc40a69a657c9bc79e3b75": {
      "model_module": "@jupyter-widgets/controls",
      "model_module_version": "1.5.0",
      "model_name": "ButtonModel",
      "state": {
       "description": "Apply changes",
       "layout": "IPY_MODEL_301ec1d171d54710843633d4d54184bb",
       "style": "IPY_MODEL_60ba89476da348e0b3e7fcd89496c720"
      }
     },
     "e65d47ef85e643b7b758074356e8c9c5": {
      "model_module": "@jupyter-widgets/base",
      "model_module_version": "1.2.0",
      "model_name": "LayoutModel",
      "state": {
       "flex_flow": "row wrap",
       "margin": "20px"
      }
     },
     "e727ed675d3744a3a90038dc401d51cb": {
      "model_module": "@jupyter-widgets/controls",
      "model_module_version": "1.5.0",
      "model_name": "DescriptionStyleModel",
      "state": {
       "description_width": ""
      }
     },
     "eb1bb55d48a347bc942b50a234b4af74": {
      "model_module": "@jupyter-widgets/controls",
      "model_module_version": "1.5.0",
      "model_name": "SliderStyleModel",
      "state": {
       "description_width": ""
      }
     },
     "ebf520474e97402aa9e2cbb0120048c7": {
      "model_module": "@jupyter-widgets/base",
      "model_module_version": "1.2.0",
      "model_name": "LayoutModel",
      "state": {}
     },
     "ed1fce086dc546588115b8991c95c8ef": {
      "model_module": "@jupyter-widgets/controls",
      "model_module_version": "1.5.0",
      "model_name": "HBoxModel",
      "state": {
       "children": [
        "IPY_MODEL_6c8567cbb6ee43b0a45bd19486c96e00",
        "IPY_MODEL_04db6f1080e14339bae8d4dc71233000",
        "IPY_MODEL_12501553a8fd472e880989e22465baa4"
       ],
       "layout": "IPY_MODEL_c6d77abe7af84891b51b8ab0872c5952"
      }
     },
     "ed3cb4f73ad9422587732d07b0c86865": {
      "model_module": "@jupyter-widgets/base",
      "model_module_version": "1.2.0",
      "model_name": "LayoutModel",
      "state": {}
     },
     "f03cfc73b6664ff8aa815943d007a3f1": {
      "model_module": "@jupyter-widgets/controls",
      "model_module_version": "1.5.0",
      "model_name": "HBoxModel",
      "state": {
       "children": [
        "IPY_MODEL_4e26f2dad8854e84b28a1d2cfb7ed3d3",
        "IPY_MODEL_7008a13b480441ebb0e5deafc0624335"
       ],
       "layout": "IPY_MODEL_bcd49960d4b04e43bf025ba1c1607782"
      }
     },
     "f39749a62c284d958bc47f57a61247c1": {
      "model_module": "@jupyter-widgets/controls",
      "model_module_version": "1.5.0",
      "model_name": "HBoxModel",
      "state": {
       "children": [
        "IPY_MODEL_f03cfc73b6664ff8aa815943d007a3f1",
        "IPY_MODEL_7a6b310a7f3544d399f118e5b3092120"
       ],
       "layout": "IPY_MODEL_e65d47ef85e643b7b758074356e8c9c5"
      }
     },
     "f74c248291304b0b902219bfe052a062": {
      "model_module": "@jupyter-widgets/base",
      "model_module_version": "1.2.0",
      "model_name": "LayoutModel",
      "state": {}
     },
     "fa16951546b54980bff60c2d8ec6913a": {
      "model_module": "@jupyter-widgets/base",
      "model_module_version": "1.2.0",
      "model_name": "LayoutModel",
      "state": {}
     },
     "fb671a5e62d74caca50dcfef62ffc890": {
      "model_module": "@jupyter-widgets/base",
      "model_module_version": "1.2.0",
      "model_name": "LayoutModel",
      "state": {}
     },
     "fd95ff7f80c94961bd009cec62f93f43": {
      "model_module": "@jupyter-widgets/controls",
      "model_module_version": "1.5.0",
      "model_name": "FloatSliderModel",
      "state": {
       "continuous_update": false,
       "description": "diffuse",
       "layout": "IPY_MODEL_3f2dee0ef8bb41b09999d96b726a5e34",
       "max": 3,
       "step": 0.1,
       "style": "IPY_MODEL_68baa42de55e44dab40bf096e95af429",
       "value": 3
      }
     },
     "fe99ebed1bff422489b6c8472bec32bf": {
      "model_module": "@jupyter-widgets/base",
      "model_module_version": "1.2.0",
      "model_name": "LayoutModel",
      "state": {}
     }
    },
    "version_major": 2,
    "version_minor": 0
   }
  }
 },
 "nbformat": 4,
 "nbformat_minor": 4
}
