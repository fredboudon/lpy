{
 "cells": [
  {
   "cell_type": "code",
   "execution_count": 10,
   "metadata": {},
   "outputs": [],
   "source": [
    "from pgljupyter import *\n",
    "from ipywidgets import Dropdown, Output\n",
    "import os"
   ]
  },
  {
   "cell_type": "code",
   "execution_count": 11,
   "metadata": {},
   "outputs": [
    {
     "data": {
      "application/vnd.jupyter.widget-view+json": {
       "model_id": "9987d1260b4642d4884c190e1d142e4b",
       "version_major": 2,
       "version_minor": 0
      },
      "text/plain": [
       "Dropdown(options=('10 - rotations.lpy', '03 - filled-square.lpy', '09 - tropism.lpy', '01 - equilateral-triang…"
      ]
     },
     "metadata": {},
     "output_type": "display_data"
    }
   ],
   "source": [
    "from os import listdir\n",
    "from os.path import isfile, join\n",
    "def on_change(change):\n",
    "    with out:\n",
    "        out.clear_output()\n",
    "        file = change['new']\n",
    "        display(LsystemWidget(file))\n",
    "out = Output()\n",
    "dd = Dropdown(options=[f for f in listdir(os.getcwd()) if isfile(join(os.getcwd(), f)) and f.endswith('.lpy')])\n",
    "dd.observe(on_change, names='value')\n",
    "with out:\n",
    "    display(LsystemWidget(dd.options[0]))\n",
    "dd"
   ]
  },
  {
   "cell_type": "code",
   "execution_count": 12,
   "metadata": {},
   "outputs": [
    {
     "data": {
      "application/vnd.jupyter.widget-view+json": {
       "model_id": "eff38cd3d4474e698635334602ffa256",
       "version_major": 2,
       "version_minor": 0
      },
      "text/plain": [
       "Output(outputs=({'output_type': 'display_data', 'data': {'text/plain': \"LsystemWidget(derivationLength=4, prog…"
      ]
     },
     "metadata": {},
     "output_type": "display_data"
    }
   ],
   "source": [
    "out"
   ]
  },
  {
   "cell_type": "code",
   "execution_count": null,
   "metadata": {},
   "outputs": [],
   "source": []
  }
 ],
 "metadata": {
  "kernelspec": {
   "display_name": "Python 3",
   "language": "python",
   "name": "python3"
  },
  "language_info": {
   "codemirror_mode": {
    "name": "ipython",
    "version": 3
   },
   "file_extension": ".py",
   "mimetype": "text/x-python",
   "name": "python",
   "nbconvert_exporter": "python",
   "pygments_lexer": "ipython3",
   "version": "3.8.6"
  }
 },
 "nbformat": 4,
 "nbformat_minor": 4
}
